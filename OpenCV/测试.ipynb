{
 "cells": [
  {
   "cell_type": "code",
   "execution_count": 9,
   "id": "44440564",
   "metadata": {},
   "outputs": [
    {
     "data": {
      "text/plain": [
       "-1"
      ]
     },
     "execution_count": 9,
     "metadata": {},
     "output_type": "execute_result"
    }
   ],
   "source": [
    "import cv2\n",
    "import numpy as np\n",
    "\n",
    "image = np.fromfile('图片/1.jpg', dtype=np.uint8)\n",
    "image = cv2.imdecode(image, cv2.IMREAD_COLOR)\n",
    "\n",
    "cv2.imshow('1', image)\n",
    "cv2.waitKey(0)"
   ]
  },
  {
   "cell_type": "code",
   "execution_count": 15,
   "id": "a3b9bafe",
   "metadata": {},
   "outputs": [],
   "source": [
    "import cv2\n",
    " \n",
    "img = cv2.imread(\"images/p2.png\")\n",
    "cv2.namedWindow(\"test\", cv2.WINDOW_NORMAL)\n",
    "cv2.resizeWindow(\"test\", 400, 600)\n",
    "cv2.imshow(\"test\", img)\n",
    "cv2.waitKey(0)\n",
    "cv2.destroyAllWindows()"
   ]
  },
  {
   "cell_type": "code",
   "execution_count": null,
   "id": "c47efd74",
   "metadata": {},
   "outputs": [
    {
     "ename": "error",
     "evalue": "OpenCV(4.11.0) :-1: error: (-5:Bad argument) in function 'resize'\n> Overload resolution failed:\n>  - resize() missing required argument 'dsize' (pos 2)\n>  - resize() missing required argument 'dsize' (pos 2)\n",
     "output_type": "error",
     "traceback": [
      "\u001b[1;31m---------------------------------------------------------------------------\u001b[0m",
      "\u001b[1;31merror\u001b[0m                                     Traceback (most recent call last)",
      "Cell \u001b[1;32mIn[17], line 7\u001b[0m\n\u001b[0;32m      3\u001b[0m img \u001b[38;5;241m=\u001b[39m cv2\u001b[38;5;241m.\u001b[39mimread(\u001b[38;5;124m\"\u001b[39m\u001b[38;5;124mimages/car3.png\u001b[39m\u001b[38;5;124m\"\u001b[39m)      \u001b[38;5;66;03m# 读取图片为 ndarray对象\u001b[39;00m\n\u001b[0;32m      5\u001b[0m resized1 \u001b[38;5;241m=\u001b[39m cv2\u001b[38;5;241m.\u001b[39mresize(img, (\u001b[38;5;241m300\u001b[39m, \u001b[38;5;241m200\u001b[39m))      \u001b[38;5;66;03m# 指定目标尺寸 \u001b[39;00m\n\u001b[1;32m----> 7\u001b[0m resized2 \u001b[38;5;241m=\u001b[39m \u001b[43mcv2\u001b[49m\u001b[38;5;241;43m.\u001b[39;49m\u001b[43mresize\u001b[49m\u001b[43m(\u001b[49m\u001b[43mimg\u001b[49m\u001b[43m,\u001b[49m\u001b[43mfx\u001b[49m\u001b[38;5;241;43m=\u001b[39;49m\u001b[38;5;241;43m2\u001b[39;49m\u001b[43m,\u001b[49m\u001b[43m \u001b[49m\u001b[43mfy\u001b[49m\u001b[38;5;241;43m=\u001b[39;49m\u001b[38;5;241;43m1.5\u001b[39;49m\u001b[43m)\u001b[49m          \u001b[38;5;66;03m# 使用缩放因子（宽度x2，高度x1.5）\u001b[39;00m\n\u001b[0;32m      9\u001b[0m resized3 \u001b[38;5;241m=\u001b[39m cv2\u001b[38;5;241m.\u001b[39mresize(img, (\u001b[38;5;241m400\u001b[39m, \u001b[38;5;241m300\u001b[39m), fx\u001b[38;5;241m=\u001b[39m\u001b[38;5;241m0.5\u001b[39m, fy\u001b[38;5;241m=\u001b[39m\u001b[38;5;241m0.5\u001b[39m)  \u001b[38;5;66;03m# 组合使用（最终尺寸=dsize，忽略fx/fy）\u001b[39;00m\n\u001b[0;32m     11\u001b[0m cv2\u001b[38;5;241m.\u001b[39mimshow(\u001b[38;5;124m\"\u001b[39m\u001b[38;5;124mimage\u001b[39m\u001b[38;5;124m\"\u001b[39m, img)\n",
      "\u001b[1;31merror\u001b[0m: OpenCV(4.11.0) :-1: error: (-5:Bad argument) in function 'resize'\n> Overload resolution failed:\n>  - resize() missing required argument 'dsize' (pos 2)\n>  - resize() missing required argument 'dsize' (pos 2)\n"
     ]
    }
   ],
   "source": [
    "import cv2\n",
    "\n",
    "img = cv2.imread(\"images/car3.png\")      # 读取图片为 ndarray对象\n",
    "\n",
    "resized1 = cv2.resize(img, (300, 200))      # 指定目标尺寸 \n",
    "    \n",
    "resized2 = cv2.resize(img, None, fx=2, fy=1.5)          # 使用缩放因子（宽度x2，高度x1.5）\n",
    "    \n",
    "resized3 = cv2.resize(img, (400, 300), fx=0.5, fy=0.5)  # 组合使用（最终尺寸=dsize，忽略fx/fy）\n",
    "\n",
    "cv2.imshow(\"image\", img)\n",
    "cv2.imshow(\"resized1\", resized1)\n",
    "cv2.imshow(\"resized2\", resized2)\n",
    "cv2.imshow(\"resized3\", resized3)\n",
    "\n",
    "cv2.waitKey(0)\n",
    "cv2.destroyAllWindows()"
   ]
  }
 ],
 "metadata": {
  "kernelspec": {
   "display_name": "opencv",
   "language": "python",
   "name": "python3"
  },
  "language_info": {
   "codemirror_mode": {
    "name": "ipython",
    "version": 3
   },
   "file_extension": ".py",
   "mimetype": "text/x-python",
   "name": "python",
   "nbconvert_exporter": "python",
   "pygments_lexer": "ipython3",
   "version": "3.8.20"
  }
 },
 "nbformat": 4,
 "nbformat_minor": 5
}
