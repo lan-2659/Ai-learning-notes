{
 "cells": [
  {
   "cell_type": "code",
   "execution_count": 3,
   "id": "b72c1081",
   "metadata": {},
   "outputs": [
    {
     "name": "stdout",
     "output_type": "stream",
     "text": [
      "[0 2 1 1 1 1 1 1 1 0 2 1 1 2 0 1 1 1 1 1 0 1 0 1 2 0 1 1 1 1]\n",
      "准确率: 0.6666666666666666\n"
     ]
    }
   ],
   "source": [
    "from sklearn.naive_bayes import MultinomialNB\n",
    "from sklearn.datasets import load_iris\n",
    "from sklearn.model_selection import train_test_split\n",
    "\n",
    "def train():\n",
    "    # 加载数据\n",
    "    iris = load_iris()\n",
    "    x=iris.data\n",
    "    y=iris.target\n",
    "    # 数据集划分\n",
    "    x_train,x_test,y_train,y_test=train_test_split(x,y,test_size=0.2,random_state=22)\n",
    "    # 创建贝叶斯算法的模型\n",
    "    model=MultinomialNB(alpha=1)\n",
    "    model.fit(x_train,y_train)#训练模型(统计训练集的信息)\n",
    "\n",
    "    # 模型评估\n",
    "    y_pred=model.predict(x_test)\n",
    "    print(y_pred)\n",
    "    score=model.score(x_test,y_test)\n",
    "    print(\"准确率:\",score)\n",
    "\n",
    "if __name__ == '__main__':\n",
    "    train()"
   ]
  }
 ],
 "metadata": {
  "kernelspec": {
   "display_name": "Python 3",
   "language": "python",
   "name": "python3"
  },
  "language_info": {
   "codemirror_mode": {
    "name": "ipython",
    "version": 3
   },
   "file_extension": ".py",
   "mimetype": "text/x-python",
   "name": "python",
   "nbconvert_exporter": "python",
   "pygments_lexer": "ipython3",
   "version": "3.9.21"
  }
 },
 "nbformat": 4,
 "nbformat_minor": 5
}
