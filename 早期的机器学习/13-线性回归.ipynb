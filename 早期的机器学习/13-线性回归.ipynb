{
 "cells": [
  {
   "cell_type": "code",
   "execution_count": 11,
   "id": "25be8aa9",
   "metadata": {},
   "outputs": [
    {
     "name": "stdout",
     "output_type": "stream",
     "text": [
      "权重系数,w向量: [ 0.4243965   7.32281732 15.05217218  3.5996297  12.05805264  1.76972959\n",
      " 17.0276393  11.31212591]\n",
      "偏置项,b 0.0\n",
      "预测值: [ 399. -309.]\n"
     ]
    }
   ],
   "source": [
    "from sklearn.linear_model import LinearRegression\n",
    "import numpy as np\n",
    "data=np.array([[0,14,8,0,5,-2,9,-3,399],\n",
    "               [-4,10,6,4,-14,-2,-14,8,-144],\n",
    "               [-1,-6,5,-12,3,-3,2,-2,30],\n",
    "               [5,-2,3,10,5,11,4,-8,126],\n",
    "               [-15,-15,-8,-15,7,-4,-12,2,-395],\n",
    "               [11,-10,-2,4,3,-9,-6,7,-87],\n",
    "               [-14,0,4,-3,5,10,13,7,422],\n",
    "               [-3,-7,-2,-8,0,-6,-5,-9,-309]])\n",
    "x,y=data[:,:-1],data[:,-1]\n",
    "\n",
    "model=LinearRegression(fit_intercept=False)\n",
    "model.fit(x,y)\n",
    "\n",
    "print(\"权重系数,w向量:\",model.coef_)\n",
    "print(\"偏置项,b\",model.intercept_)\n",
    "w=model.coef_\n",
    "b=model.intercept_\n",
    "x=[[0,14,8,0,5,-2,9,-3],\n",
    "   [-3,-7,-2,-8,0,-6,-5,-9]]\n",
    "y_pred=model.predict(x)#x@w.T+b#np.sum(x*w)+b\n",
    "print(\"预测值:\",y_pred)"
   ]
  }
 ],
 "metadata": {
  "kernelspec": {
   "display_name": "Python 3",
   "language": "python",
   "name": "python3"
  },
  "language_info": {
   "codemirror_mode": {
    "name": "ipython",
    "version": 3
   },
   "file_extension": ".py",
   "mimetype": "text/x-python",
   "name": "python",
   "nbconvert_exporter": "python",
   "pygments_lexer": "ipython3",
   "version": "3.9.21"
  }
 },
 "nbformat": 4,
 "nbformat_minor": 5
}
