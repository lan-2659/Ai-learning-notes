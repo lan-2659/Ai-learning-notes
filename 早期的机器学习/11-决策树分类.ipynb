{
 "cells": [
  {
   "cell_type": "code",
   "execution_count": 21,
   "id": "388426ad",
   "metadata": {},
   "outputs": [
    {
     "name": "stdout",
     "output_type": "stream",
     "text": [
      "准确率: 0.8666666666666667\n"
     ]
    }
   ],
   "source": [
    "from sklearn.datasets import load_iris  \n",
    "from sklearn.model_selection import train_test_split\n",
    "from sklearn.tree import DecisionTreeClassifier,export_graphviz\n",
    "from sklearn.preprocessing import StandardScaler\n",
    "\n",
    "import joblib\n",
    "def train():\n",
    "    # 加载数据\n",
    "    iris = load_iris()\n",
    "    x=iris.data\n",
    "    y=iris.target\n",
    "    # 数据集划分\n",
    "    x_train,x_test,y_train,y_test=train_test_split(x,y,test_size=0.2,random_state=22)\n",
    "    # 标准化\n",
    "    transfer=StandardScaler()\n",
    "    x_train=transfer.fit_transform(x_train)\n",
    "    x_test=transfer.transform(x_test)\n",
    "\n",
    "    # 创建决策树算法的模型\n",
    "    model=DecisionTreeClassifier(max_depth=5,criterion=\"entropy\")\n",
    "    model.fit(x_train,y_train)#训练模型(统计训练集的信息)\n",
    "    # 模型评估\n",
    "    score=model.score(x_test,y_test)\n",
    "    print(\"准确率:\",score)\n",
    "\n",
    "    # 保存\n",
    "    joblib.dump(model,\"./src/model/dctree_model.pkl\")\n",
    "    joblib.dump(transfer,\"./src/model/dctree_transfer.pkl\")\n",
    "\n",
    "    # 保存模型可视化数据\n",
    "    export_graphviz(model,out_file=\"./src/model/dc_info.dot\",feature_names=[\"花萼长\",\"花萼宽\",\"花瓣长\",\"花瓣宽\"])\n",
    "\n",
    "def detect():\n",
    "    # 加载模型\n",
    "    model=joblib.load(\"./src/model/dctree_model.pkl\")\n",
    "    transfer=joblib.load(\"./src/model/dctree_transfer.pkl\")\n",
    "    x_new=[[2.1,1.5,1.4,1.2],\n",
    "           [6.1,4.5,5.4,5.2]]\n",
    "    transfer.transform(x_new)\n",
    "    y_pred=model.predict(x_new)\n",
    "    print(y_pred)\n",
    "\n",
    "if __name__ == '__main__':\n",
    "    train()\n",
    "    # detect()"
   ]
  }
 ],
 "metadata": {
  "kernelspec": {
   "display_name": "Python 3",
   "language": "python",
   "name": "python3"
  },
  "language_info": {
   "codemirror_mode": {
    "name": "ipython",
    "version": 3
   },
   "file_extension": ".py",
   "mimetype": "text/x-python",
   "name": "python",
   "nbconvert_exporter": "python",
   "pygments_lexer": "ipython3",
   "version": "3.9.21"
  }
 },
 "nbformat": 4,
 "nbformat_minor": 5
}
