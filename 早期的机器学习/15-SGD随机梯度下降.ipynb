{
 "cells": [
  {
   "cell_type": "code",
   "execution_count": 12,
   "id": "75c553fb",
   "metadata": {},
   "outputs": [
    {
     "name": "stdout",
     "output_type": "stream",
     "text": [
      "[-4.28982016e-01  5.92979605e+00  1.24864858e+01 -6.90805548e+00\n",
      "  1.16268921e+00  4.81456280e+02 -3.75796270e+00 -1.13252975e+01]\n",
      "[0.]\n",
      "-1600257.6546963896\n",
      "2086665.1177630068\n"
     ]
    }
   ],
   "source": [
    "from sklearn.linear_model import SGDRegressor\n",
    "from sklearn.datasets import fetch_california_housing\n",
    "from sklearn.model_selection import train_test_split\n",
    "from sklearn.preprocessing import StandardScaler\n",
    "from  sklearn.metrics import mean_squared_error\n",
    "# 加载数据集\n",
    "# data = fetch_california_housing(data_home=\"./src\")\n",
    "# print(data.data.shape)\n",
    "# print(data.feature_names)\n",
    "# print(data.target.shape)\n",
    "# print(data.target_names)\n",
    "# 1.加载数据集\n",
    "x,y=fetch_california_housing(data_home=\"./src\",return_X_y=True)\n",
    "# 2.数据集划分\n",
    "x_train,x_test,y_train,y_test=train_test_split(x,y,test_size=0.2,random_state=0)\n",
    "# 3.标准化 数据集\n",
    "scaler=StandardScaler()\n",
    "x_train=scaler.fit_transform(x_train)\n",
    "x_test=scaler.transform(x_test)\n",
    "#  4.模型搭建\n",
    "model=SGDRegressor(fit_intercept=False,loss=\"squared_error\",max_iter=100000,eta0=0.001,learning_rate=\"constant\")\n",
    "model.fit(x_train,y_train)\n",
    "print(model.coef_)\n",
    "print(model.intercept_)\n",
    "\n",
    "# 5.模型评估\n",
    "score=model.score(x_test,y_test)\n",
    "print(score)\n",
    "y_pred=model.predict(x_test)\n",
    "e=mean_squared_error(y_pred,y_test)\n",
    "print(e)"
   ]
  }
 ],
 "metadata": {
  "kernelspec": {
   "display_name": "Python 3",
   "language": "python",
   "name": "python3"
  },
  "language_info": {
   "codemirror_mode": {
    "name": "ipython",
    "version": 3
   },
   "file_extension": ".py",
   "mimetype": "text/x-python",
   "name": "python",
   "nbconvert_exporter": "python",
   "pygments_lexer": "ipython3",
   "version": "3.9.21"
  }
 },
 "nbformat": 4,
 "nbformat_minor": 5
}
