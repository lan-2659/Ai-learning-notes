{
 "cells": [
  {
   "cell_type": "code",
   "execution_count": 1,
   "metadata": {},
   "outputs": [
    {
     "name": "stdout",
     "output_type": "stream",
     "text": [
      "hello world\n"
     ]
    }
   ],
   "source": [
    "print(\"hello world\")"
   ]
  },
  {
   "cell_type": "code",
   "execution_count": 3,
   "metadata": {},
   "outputs": [
    {
     "name": "stdout",
     "output_type": "stream",
     "text": [
      "1\n",
      "2\n",
      "3\n"
     ]
    }
   ],
   "source": [
    "a = 1; b = 2; c = 3\n",
    "print(a, b, c, sep='\\n')"
   ]
  },
  {
   "cell_type": "code",
   "execution_count": 4,
   "metadata": {},
   "outputs": [
    {
     "name": "stdout",
     "output_type": "stream",
     "text": [
      "34\n"
     ]
    }
   ],
   "source": [
    "汉字_1 = 34\n",
    "print(汉字_1)"
   ]
  },
  {
   "cell_type": "code",
   "execution_count": 27,
   "metadata": {},
   "outputs": [
    {
     "name": "stdout",
     "output_type": "stream",
     "text": [
      "\n"
     ]
    }
   ],
   "source": [
    "s = '123456789'\n",
    "print(s[0:8:-1])"
   ]
  },
  {
   "cell_type": "code",
   "execution_count": 1,
   "metadata": {},
   "outputs": [
    {
     "name": "stdout",
     "output_type": "stream",
     "text": [
      "hello 123.457 world\n"
     ]
    }
   ],
   "source": [
    "num = 123.456789\n",
    "print(f'hello {num:.3f} world')"
   ]
  },
  {
   "cell_type": "code",
   "execution_count": 3,
   "metadata": {},
   "outputs": [
    {
     "name": "stdout",
     "output_type": "stream",
     "text": [
      "上海自来水来自海上 是回文\n",
      "上海自来水来自海上111 不是回文\n"
     ]
    }
   ],
   "source": [
    "def pan_duan(hui_wen):\n",
    "    if hui_wen == hui_wen[::-1]:\n",
    "        print(hui_wen, '是回文')\n",
    "    else:\n",
    "        print(hui_wen, '不是回文')\n",
    "        \n",
    "hui_wen = '上海自来水来自海上'\n",
    "pan_duan(hui_wen)\n",
    "hui_wen = '上海自来水来自海上111'\n",
    "pan_duan(hui_wen)"
   ]
  },
  {
   "cell_type": "code",
   "execution_count": 1,
   "metadata": {},
   "outputs": [
    {
     "name": "stdout",
     "output_type": "stream",
     "text": [
      "角 A 的角度: 66.80°\n",
      "角 B 的角度: 98.13°\n",
      "角 C 的角度: 15.07°\n"
     ]
    }
   ],
   "source": [
    "import math\n",
    "\n",
    "def distance(p1, p2):\n",
    "    return math.sqrt((p1[0] - p2[0])**2 + (p1[1] - p2[1])**2)\n",
    "A = 2, 5\n",
    "B = 3, 4\n",
    "C = 0, 0\n",
    "a = distance(B, C)  # 边 a 对点 A\n",
    "b = distance(A, C)  # 边 b 对点 B\n",
    "c = distance(A, B)  # 边 c 对点 C\n",
    "\n",
    "def jiao_du(side1, side2, side3):\n",
    "    cos_theta = (side1**2 + side2**2 - side3**2) / (2 * side1 * side2)\n",
    "    return math.degrees(math.acos(cos_theta))  # 将弧度转换为角度\n",
    "angle_A = jiao_du(b, c, a)\n",
    "angle_B = jiao_du(a, c, b)\n",
    "angle_C = jiao_du(a, b, c)\n",
    "\n",
    "print(f\"角 A 的角度: {angle_A:.2f}°\")\n",
    "print(f\"角 B 的角度: {angle_B:.2f}°\")\n",
    "print(f\"角 C 的角度: {angle_C:.2f}°\")"
   ]
  },
  {
   "cell_type": "code",
   "execution_count": 15,
   "metadata": {},
   "outputs": [
    {
     "name": "stdout",
     "output_type": "stream",
     "text": [
      "19\n",
      "10\n"
     ]
    }
   ],
   "source": [
    "num = 0o12\n",
    "num2 = 0x13\n",
    "new_num = int(num)\n",
    "new_num2 = int(num2)\n",
    "print(new_num2)\n",
    "print(new_num)"
   ]
  },
  {
   "cell_type": "code",
   "execution_count": 20,
   "metadata": {},
   "outputs": [
    {
     "name": "stdout",
     "output_type": "stream",
     "text": [
      "[12, 12, '0o12']\n",
      "10\n"
     ]
    }
   ],
   "source": [
    "nums = [12, 12, '0o12']\n",
    "print(nums)\n",
    "print(int(nums[2], 8))"
   ]
  },
  {
   "cell_type": "code",
   "execution_count": 21,
   "metadata": {},
   "outputs": [
    {
     "name": "stdout",
     "output_type": "stream",
     "text": [
      "1\n",
      "1\n",
      "1\n",
      "1\n",
      "1\n",
      "1\n",
      "1\n",
      "1\n",
      "1\n",
      "2\n"
     ]
    }
   ],
   "source": [
    "num = [1.1, 1.2, 1.3, 1.4, 1.5, 1.6, 1.7, 1.8, 1.9, 2.0]\n",
    "for i in num:\n",
    "    print(int(i))"
   ]
  },
  {
   "cell_type": "code",
   "execution_count": null,
   "metadata": {},
   "outputs": [
    {
     "name": "stdout",
     "output_type": "stream",
     "text": [
      "10.0\n"
     ]
    }
   ],
   "source": [
    "num = \"1.2\"\n",
    "num = float(0o12)\n",
    "print(num)"
   ]
  },
  {
   "cell_type": "code",
   "execution_count": null,
   "metadata": {},
   "outputs": [],
   "source": [
    "d = {\"name\": \"zhangsan\", \"age\": 18}\n",
    "print(d.get(\"name1\", \"jj\"))\n",
    "print(d.get(\"name1\", \"jj\"))"
   ]
  },
  {
   "cell_type": "code",
   "execution_count": null,
   "metadata": {},
   "outputs": [
    {
     "name": "stdout",
     "output_type": "stream",
     "text": [
      "1.231111e+02\n",
      "123.111\n"
     ]
    }
   ],
   "source": [
    "num = 123.1111111\n",
    "print(\"%e\" % num)\n",
    "print(\"%g\" % num)"
   ]
  },
  {
   "cell_type": "code",
   "execution_count": 38,
   "metadata": {},
   "outputs": [
    {
     "name": "stdout",
     "output_type": "stream",
     "text": [
      "12345.7\n",
      "1.23457e-05\n"
     ]
    }
   ],
   "source": [
    "num1 = 12345.6789\n",
    "num2 = 0.0000123456789\n",
    "print(\"%g\" % num1)  # 输出: 12345.7\n",
    "print(\"%g\" % num2)  # 输出: 1.23457e-05"
   ]
  },
  {
   "cell_type": "code",
   "execution_count": 56,
   "metadata": {},
   "outputs": [
    {
     "name": "stdout",
     "output_type": "stream",
     "text": [
      "xxxxxxx12.23\n"
     ]
    }
   ],
   "source": [
    "print(f\"{12.234:x=12.2f}\")"
   ]
  },
  {
   "cell_type": "code",
   "execution_count": null,
   "metadata": {},
   "outputs": [
    {
     "ename": "ZeroDivisionError",
     "evalue": "division by zero",
     "output_type": "error",
     "traceback": [
      "\u001b[1;31m---------------------------------------------------------------------------\u001b[0m",
      "\u001b[1;31mZeroDivisionError\u001b[0m                         Traceback (most recent call last)",
      "Cell \u001b[1;32mIn[11], line 1\u001b[0m\n\u001b[1;32m----> 1\u001b[0m \u001b[38;5;28mprint\u001b[39m(\u001b[38;5;28;43;01mTrue\u001b[39;49;00m\u001b[43m \u001b[49m\u001b[38;5;241;43m/\u001b[39;49m\u001b[43m \u001b[49m\u001b[38;5;28;43;01mFalse\u001b[39;49;00m)\n",
      "\u001b[1;31mZeroDivisionError\u001b[0m: division by zero"
     ]
    }
   ],
   "source": [
    "print(True / False)"
   ]
  },
  {
   "cell_type": "code",
   "execution_count": null,
   "metadata": {},
   "outputs": [
    {
     "data": {
      "text/plain": [
       "[1, 0, 0, 0, 4, 5]"
      ]
     },
     "execution_count": 1,
     "metadata": {},
     "output_type": "execute_result"
    }
   ],
   "source": [
    "x = [1, 2, 3, 4, 5]\n",
    "x[1:3] = [0, 0, 0]\n",
    "x"
   ]
  },
  {
   "cell_type": "code",
   "execution_count": 5,
   "metadata": {},
   "outputs": [
    {
     "name": "stdout",
     "output_type": "stream",
     "text": [
      "[1, 0, 3, 4, 5]\n",
      "[3, 3]\n"
     ]
    }
   ],
   "source": [
    "x = [1, 2, 3, 4, 5]\n",
    "y = x[1:3]\n",
    "\n",
    "x[1] = 0\n",
    "y[0] = 3\n",
    "\n",
    "print(x)\n",
    "print(y)"
   ]
  },
  {
   "cell_type": "code",
   "execution_count": 8,
   "metadata": {},
   "outputs": [
    {
     "name": "stdout",
     "output_type": "stream",
     "text": [
      "[1, 2, [99, 2], 3, 4, 5]\n"
     ]
    }
   ],
   "source": [
    "x = [1, 2, [1, 2], 3, 4, 5]\n",
    "x[1:3][1][0] = 99\n",
    "print(x)"
   ]
  },
  {
   "cell_type": "code",
   "execution_count": 18,
   "metadata": {},
   "outputs": [
    {
     "data": {
      "text/plain": [
       "[1, 3, 5]"
      ]
     },
     "execution_count": 18,
     "metadata": {},
     "output_type": "execute_result"
    }
   ],
   "source": [
    "x = [1, 2, 3, 4, 5]\n",
    "x[-7:23:2]"
   ]
  },
  {
   "cell_type": "code",
   "execution_count": 19,
   "metadata": {},
   "outputs": [
    {
     "data": {
      "text/plain": [
       "[20, 30, 10, 20, 10]"
      ]
     },
     "execution_count": 19,
     "metadata": {},
     "output_type": "execute_result"
    }
   ],
   "source": [
    "x=[10,20,30,10,20,10]\n",
    "x.remove(10)\n",
    "x"
   ]
  },
  {
   "cell_type": "code",
   "execution_count": null,
   "metadata": {},
   "outputs": [
    {
     "name": "stdout",
     "output_type": "stream",
     "text": [
      "-1 -2 -3\n"
     ]
    }
   ],
   "source": [
    "x, y, z = -1, -2, -3\n",
    "print(x, y, z)\n",
    "\n"
   ]
  },
  {
   "cell_type": "code",
   "execution_count": null,
   "metadata": {},
   "outputs": [
    {
     "name": "stdout",
     "output_type": "stream",
     "text": [
      "a\n",
      "26\n",
      "[]\n"
     ]
    }
   ],
   "source": [
    "tuple_x = (\n",
    "    \"a\",\n",
    "    \"b\",\n",
    "    \"c\",\n",
    "    \"d\",\n",
    "    \"e\",\n",
    "    \"f\",\n",
    "    \"g\",\n",
    "    \"h\",\n",
    "    \"i\",\n",
    "    \"j\",\n",
    "    \"k\",\n",
    "    \"l\",\n",
    "    \"m\",\n",
    "    \"n\",\n",
    "    \"o\",\n",
    "    \"p\",\n",
    "    \"q\",\n",
    "    \"r\",\n",
    "    \"s\",\n",
    "    \"t\",\n",
    "    \"u\",\n",
    "    \"v\",\n",
    "    \"w\",\n",
    "    \"x\",\n",
    "    \"y\",\n",
    "    \"z\",\n",
    ")\n",
    "\n",
    "tuple_x = list(tuple_x)\n",
    "print(tuple_x[0])  # 通过索引输出元组第一个元素\n",
    "print(len(tuple_x))\n",
    "print(tuple_x[25:0])  # 通过切片输出元组第二个到第三个元素"
   ]
  },
  {
   "cell_type": "code",
   "execution_count": 17,
   "metadata": {},
   "outputs": [
    {
     "name": "stdout",
     "output_type": "stream",
     "text": [
      "<class 'dict_keys'> <class 'dict_values'>\n"
     ]
    }
   ],
   "source": [
    "one = 1\n",
    "dict_x = dict(你好=2, three=3)\n",
    "\n",
    "print(type(dict_x.keys()), type(dict_x.values()))"
   ]
  },
  {
   "cell_type": "code",
   "execution_count": 7,
   "metadata": {},
   "outputs": [
    {
     "name": "stdout",
     "output_type": "stream",
     "text": [
      "{1: 1}\n"
     ]
    }
   ],
   "source": [
    "dict_x = {1:1}\n",
    "print(dict_x)"
   ]
  },
  {
   "cell_type": "code",
   "execution_count": 19,
   "metadata": {},
   "outputs": [
    {
     "name": "stdout",
     "output_type": "stream",
     "text": [
      "<class 'dict_items'>\n"
     ]
    }
   ],
   "source": [
    "d1={\"name\":\"jack\",\"age\":28,\"it\":[\"python\",\"java\"]}\n",
    "items=d1.items()#返回一个可迭代对象,这个对象中保存的是键值对\n",
    "print(type(items))"
   ]
  },
  {
   "cell_type": "code",
   "execution_count": 10,
   "metadata": {},
   "outputs": [
    {
     "name": "stdout",
     "output_type": "stream",
     "text": [
      "1\n",
      "2\n",
      "3\n",
      "4\n",
      "5\n",
      "6\n",
      "7\n",
      "8\n",
      "9\n",
      "10\n",
      "11\n"
     ]
    }
   ],
   "source": [
    "x = [1, 2, 3, 4, 5, 6, 7, 8, 9, 10]\n",
    "y = iter(x)\n",
    "x.append(11)\n",
    "for i in y:\n",
    "    print(i)"
   ]
  }
 ],
 "metadata": {
  "kernelspec": {
   "display_name": "base",
   "language": "python",
   "name": "python3"
  },
  "language_info": {
   "codemirror_mode": {
    "name": "ipython",
    "version": 3
   },
   "file_extension": ".py",
   "mimetype": "text/x-python",
   "name": "python",
   "nbconvert_exporter": "python",
   "pygments_lexer": "ipython3",
   "version": "3.12.7"
  }
 },
 "nbformat": 4,
 "nbformat_minor": 2
}
