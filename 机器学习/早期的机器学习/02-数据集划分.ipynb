{
 "cells": [
  {
   "cell_type": "code",
   "execution_count": 1,
   "id": "ff3f1fc6",
   "metadata": {},
   "outputs": [
    {
     "name": "stdout",
     "output_type": "stream",
     "text": [
      "(120, 4) (120,)\n",
      "(30, 4) (30,)\n",
      "[1 0 2 1 1 0 1 2 1 1 2 0 0 0 0 1 2 1 1 2 0 2 0 2 2 2 2 2 0 0]\n"
     ]
    }
   ],
   "source": [
    "\"\"\"\n",
    "加载数据集时一般情况下都是需要我们自主进行训练集、测试集的划分\n",
    "sklearn中提供了 train_test_split 函数，用于数据集的划分\n",
    "下面将以鸢尾花数据集为例，进行数据集的划分\n",
    "\"\"\"\n",
    "from sklearn.model_selection import train_test_split\n",
    "from sklearn.datasets import load_iris\n",
    "\n",
    "iris = load_iris()\n",
    "x = iris.data\n",
    "y = iris.target\n",
    "\n",
    "x_train, x_test, y_train, y_test = train_test_split(\n",
    "    x, y, train_size=0.8, shuffle=True, random_state=42\n",
    ")\n",
    "\"\"\"\n",
    "参数说明：\n",
    "    *arrays: Any,                       # 要分割的数据集（一个或多个）\n",
    "    test_size: Float | None = None,     # 测试集比例/大小（传入小于1则表示比例，否则表示大小）\n",
    "    train_size: Float | None = None,    # 训练集比例/大小（传入小于1则表示比例，否则表示大小）\n",
    "    random_state: Int | RandomState | None = None,  # 随机种子\n",
    "    shuffle: bool = True,               # 分割前是否打乱数据\n",
    "    stratify: ArrayLike | None = None   # 分层抽样依据（即根据传入的某一个数组来进行分层抽样）\n",
    "\n",
    "注意：\n",
    "    test_size 和 train_size 这两个参数的值可以任意设置，只要分割后的训练集和测试集的样本数量之和不超过数据集\n",
    "    建议test_size 和 train_size同时使用时，要么都设置为小于1的小数，要么都设置为大于1的整数\n",
    "    当 shuffle=False 时，stratify 不能使用\n",
    "\"\"\"\n",
    "\n",
    "print(x_train.shape, y_train.shape)\n",
    "print(x_test.shape, y_test.shape)\n",
    "print(y_test)"
   ]
  }
 ],
 "metadata": {
  "kernelspec": {
   "display_name": "sklearn",
   "language": "python",
   "name": "python3"
  },
  "language_info": {
   "codemirror_mode": {
    "name": "ipython",
    "version": 3
   },
   "file_extension": ".py",
   "mimetype": "text/x-python",
   "name": "python",
   "nbconvert_exporter": "python",
   "pygments_lexer": "ipython3",
   "version": "3.9.23"
  }
 },
 "nbformat": 4,
 "nbformat_minor": 5
}
