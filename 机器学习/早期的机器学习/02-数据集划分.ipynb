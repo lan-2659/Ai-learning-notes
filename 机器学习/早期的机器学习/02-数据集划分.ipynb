{
 "cells": [
  {
   "cell_type": "code",
   "execution_count": null,
   "id": "ff3f1fc6",
   "metadata": {},
   "outputs": [
    {
     "name": "stdout",
     "output_type": "stream",
     "text": [
      "[80, 30, 60, 40, 100, 90, 20] [50, 70, 10]\n",
      "[8, 3, 6, 4, 10, 9, 2] [5, 7, 1]\n"
     ]
    }
   ],
   "source": [
    "\n",
    "from sklearn.model_selection import train_test_split\n",
    "\n",
    "# print(x)\n",
    "# print(y)\n",
    "\n",
    "# 数据集的划分1\n",
    "# x=[10,20,30,40,50,60,70,80,90,100]\n",
    "# x_train,x_test=train_test_split(x)\n",
    "# print(x_train,x_test)\n",
    "\n",
    "# 数据集的划分2\n",
    "# x=[10,20,30,40,50,60,70,80,90,100]\n",
    "# # x_train,x_test=train_test_split(x,train_size=0.8,shuffle=True,random_state=42)\n",
    "# # x_train,x_test=train_test_split(x,train_size=4,shuffle=True,random_state=42)\n",
    "# x_train,x_test=train_test_split(x,test_size=0.7,shuffle=True,random_state=42)\n",
    "# print(x_train,x_test)\n",
    "\n",
    "\n",
    "# 数据集的划分3\n",
    "x=[10,20,30,40,50,60,70,80,90,100]\n",
    "y=[1,2,3,4,5,6,7,8,9,10]\n",
    "x_train,x_test,y_train,y_test=train_test_split(x,y)\n",
    "print(x_train,x_test)\n",
    "print(y_train,y_test)\n"
   ]
  },
  {
   "cell_type": "code",
   "execution_count": null,
   "id": "39ab2682",
   "metadata": {},
   "outputs": [
    {
     "name": "stdout",
     "output_type": "stream",
     "text": [
      "(120, 4) (120,)\n",
      "(30, 4) (30,)\n",
      "[1 0 2 1 1 0 1 2 1 1 2 0 0 0 0 1 2 1 1 2 0 2 0 2 2 2 2 2 0 0]\n"
     ]
    }
   ],
   "source": [
    "# 对鸢尾花数据集进行 数据集划分\n",
    "from sklearn.datasets import load_iris\n",
    "from sklearn.model_selection import train_test_split\n",
    "iris=load_iris()\n",
    "x=iris.data\n",
    "y=iris.target\n",
    "x_train,x_test,y_train,y_test=train_test_split(x,y,train_size=0.8,shuffle=True,random_state=42)\n",
    "print(x_train.shape,y_train.shape)\n",
    "print(x_test.shape,y_test.shape)\n",
    "print(y_test)\n"
   ]
  }
 ],
 "metadata": {
  "kernelspec": {
   "display_name": "Python 3",
   "language": "python",
   "name": "python3"
  },
  "language_info": {
   "codemirror_mode": {
    "name": "ipython",
    "version": 3
   },
   "file_extension": ".py",
   "mimetype": "text/x-python",
   "name": "python",
   "nbconvert_exporter": "python",
   "pygments_lexer": "ipython3",
   "version": "3.9.21"
  }
 },
 "nbformat": 4,
 "nbformat_minor": 5
}
