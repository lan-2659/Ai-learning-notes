{
 "cells": [
  {
   "cell_type": "code",
   "execution_count": 6,
   "id": "a2cb21ee",
   "metadata": {},
   "outputs": [
    {
     "name": "stdout",
     "output_type": "stream",
     "text": [
      "[[0.         0.        ]\n",
      " [0.31818182 0.2       ]\n",
      " [0.09090909 1.        ]\n",
      " [1.         0.4       ]]\n"
     ]
    }
   ],
   "source": [
    "from sklearn.preprocessing import MinMaxScaler\n",
    "# 最大值最小值归一化\n",
    "x=[[100,2],\n",
    "   [800,3],\n",
    "   [300,7],\n",
    "   [2300,4]]\n",
    "tool=MinMaxScaler(feature_range=(0,1))\n",
    "x=tool.fit_transform(x)\n",
    "print(x)"
   ]
  },
  {
   "cell_type": "code",
   "execution_count": null,
   "id": "9f2745a2",
   "metadata": {},
   "outputs": [
    {
     "name": "stdout",
     "output_type": "stream",
     "text": [
      "[[0.04347826 0.28571429]\n",
      " [0.34782609 0.42857143]\n",
      " [0.13043478 1.        ]\n",
      " [1.         0.57142857]]\n"
     ]
    }
   ],
   "source": [
    "# normalize归一化\n",
    "from sklearn.preprocessing import normalize\n",
    "x=[[100,2],\n",
    "   [800,3],\n",
    "   [300,7],\n",
    "   [2300,4]]\n",
    "x=normalize(x,norm=\"max\",axis=0)\n",
    "print(x)"
   ]
  },
  {
   "cell_type": "code",
   "execution_count": 12,
   "id": "2d97a313",
   "metadata": {},
   "outputs": [
    {
     "name": "stdout",
     "output_type": "stream",
     "text": [
      "[[-0.89978    -1.06904497]\n",
      " [-0.08707548 -0.53452248]\n",
      " [-0.66757871  1.60356745]\n",
      " [ 1.65443419  0.        ]]\n"
     ]
    }
   ],
   "source": [
    "# 均值方差标准化\n",
    "from sklearn.preprocessing import StandardScaler\n",
    "x=[[100,2],\n",
    "   [800,3],\n",
    "   [300,7],\n",
    "   [2300,4]]\n",
    "tool=StandardScaler()\n",
    "x=tool.fit_transform(x)\n",
    "print(x)"
   ]
  },
  {
   "cell_type": "code",
   "execution_count": null,
   "id": "f38757b9",
   "metadata": {},
   "outputs": [
    {
     "name": "stdout",
     "output_type": "stream",
     "text": [
      "[[-1.01471964 -1.06904497]\n",
      " [-1.00659259 -0.53452248]\n",
      " [-0.98105045  1.60356745]\n",
      " [-0.98917749  0.        ]]\n"
     ]
    }
   ],
   "source": [
    "# fit_transform  fit  transform 的用法\n",
    "from sklearn.preprocessing import StandardScaler\n",
    "x=[[100,2],\n",
    "   [800,3],\n",
    "   [300,7],\n",
    "   [2300,4]]\n",
    "tool=StandardScaler()\n",
    "tool.fit(x)#训练(把x的均值和方差统计出来 保存下来)\n",
    "# print(tool.mean_)\n",
    "# print(tool.var_)\n",
    "# print(tool.scale_)\n",
    "\n",
    "tool.transform(x)#转换x(把x进行标准化)\n",
    "\n",
    "x2=[[1,2],\n",
    "   [8,3],\n",
    "   [30,7],\n",
    "   [23,4]]\n",
    "x2=tool.transform(x2)#使用x的均值和方差 来转换x2中的数据\n",
    "print(x2)\n",
    "\n",
    "\n",
    "x3=[[1,2]]\n",
    "tool.fit_transform(x2)#计算x的均值和方差，然后进行标准化，然后返回x2\n",
    "tool.transform(x3)#使用x2的均值和方差转化x3\n"
   ]
  }
 ],
 "metadata": {
  "kernelspec": {
   "display_name": "Python 3",
   "language": "python",
   "name": "python3"
  },
  "language_info": {
   "codemirror_mode": {
    "name": "ipython",
    "version": 3
   },
   "file_extension": ".py",
   "mimetype": "text/x-python",
   "name": "python",
   "nbconvert_exporter": "python",
   "pygments_lexer": "ipython3",
   "version": "3.9.21"
  }
 },
 "nbformat": 4,
 "nbformat_minor": 5
}
