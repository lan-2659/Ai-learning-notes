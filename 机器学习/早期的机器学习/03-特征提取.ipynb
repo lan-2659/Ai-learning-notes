{
 "cells": [
  {
   "cell_type": "code",
   "execution_count": null,
   "id": "8e700ede",
   "metadata": {},
   "outputs": [
    {
     "name": "stdout",
     "output_type": "stream",
     "text": [
      "  (0, 1)\t1.0\n",
      "  (0, 3)\t40.0\n",
      "  (1, 0)\t1.0\n",
      "  (1, 3)\t34.0\n",
      "  (2, 2)\t1.0\n",
      "  (2, 3)\t29.0\n",
      "  (3, 2)\t1.0\n",
      "  (3, 3)\t31.0\n",
      "[[ 0.  1.  0. 40.]\n",
      " [ 1.  0.  0. 34.]\n",
      " [ 0.  0.  1. 29.]\n",
      " [ 0.  0.  1. 31.]]\n",
      "['city=上海', 'city=北京', 'city=深圳', 'temperature']\n"
     ]
    }
   ],
   "source": [
    "\"\"\"\n",
    "DictVectorizer 是 scikit-learn 提供的一个特征提取工具\n",
    "用于将特征字典（字典组成的列表）转换为机器学习算法可用的矩阵形式（通常是稀疏矩阵）。\n",
    "它特别适用于处理类别特征和数值特征混合的情况。\n",
    "\n",
    "稀疏矩阵：\n",
    "      稀疏矩阵是指大部分元素为零（或空值）的矩阵，且非零元素的分布一般没有规律。与稠密矩阵（大多数元素非零）相对。\n",
    "\"\"\"\n",
    "from sklearn.feature_extraction import DictVectorizer \n",
    "\n",
    "# 字典列表向量化\n",
    "data=[{'city':'北京','temperature':40},\n",
    "      {'city':'上海','temperature':34},\n",
    "      {'city':'深圳','temperature':29},\n",
    "      {'city':'深圳','temperature':31}]\n",
    "\n",
    "# 创建一个字典列表特征提取工具\n",
    "tool=DictVectorizer(sparse=True)#sparse=True表示返回的是稀疏矩阵(三元组表)\n",
    "# 字典列表特征提取\n",
    "data=tool.fit_transform(data)\n",
    "print(data)#三元组表\n",
    "print(data.toarray())#三元组表转数组\n",
    "print(tool.feature_names_)"
   ]
  },
  {
   "cell_type": "code",
   "execution_count": null,
   "id": "b9d0eedb",
   "metadata": {},
   "outputs": [
    {
     "name": "stdout",
     "output_type": "stream",
     "text": [
      "[[1 2 0 2 1 0]\n",
      " [0 0 1 1 0 1]]\n",
      "['great' 'is' 'like' 'stu' 'well' 'you']\n"
     ]
    }
   ],
   "source": [
    "from sklearn.feature_extraction.text import CountVectorizer\n",
    "# 词频特征提取\n",
    "data=[\"stu is well, stu is great\", \"You like stu\"]\n",
    "cv=CountVectorizer()#创建词频特征提取器\n",
    "data=cv.fit_transform(data)#特征提取(转换)\n",
    "print(data.toarray())#三元组表转数组\n",
    "print(cv.get_feature_names_out())#查看每一个特征的特征名"
   ]
  },
  {
   "cell_type": "code",
   "execution_count": null,
   "id": "c8f3282a",
   "metadata": {},
   "outputs": [
    {
     "name": "stdout",
     "output_type": "stream",
     "text": [
      "[[0 1 1 1 1 1 0]\n",
      " [0 0 0 0 0 0 1]\n",
      " [1 0 0 0 0 0 0]]\n",
      "['事业做出重大贡献' '会长' '坚定支持民办教育事业' '学会' '教育' '期间' '热忱关心扶持民办学校发展']\n"
     ]
    }
   ],
   "source": [
    "from sklearn.feature_extraction.text import CountVectorizer\n",
    "# 中文词频特征提取(中文必须有空格来分词 否则会把一句话当做一个特征)\n",
    "data=[\"教育学会会长期间坚定支持民办教育事业！\",\"热忱关心扶持民办学校发展\",\"事业做出重大贡献！\"]\n",
    "cv=CountVectorizer()#创建词频特征提取器\n",
    "data=cv.fit_transform(data)#特征提取(转换)\n",
    "print(data.toarray())#三元组表转数组\n",
    "print(cv.get_feature_names_out())#查看每一个特征的特征名"
   ]
  },
  {
   "cell_type": "code",
   "execution_count": 21,
   "id": "ca00703c",
   "metadata": {},
   "outputs": [
    {
     "name": "stdout",
     "output_type": "stream",
     "text": [
      "['教育', '学会', '会长', '期间', '坚定', '支持', '民办教育', '事业', '！']\n",
      "教育 学会 会长 期间 坚定 支持 民办教育 事业 ！\n"
     ]
    }
   ],
   "source": [
    "import jieba\n",
    "str=\"教育学会会长期间坚定支持民办教育事业！\"\n",
    "data=jieba.cut(str)#分词,返回可迭代对象\n",
    "# print(next(data))\n",
    "# print(next(data))\n",
    "# print(next(data))\n",
    "# print(next(data))\n",
    "data=list(data)\n",
    "print(data)\n",
    "str1=\" \".join(data)\n",
    "print(str1)"
   ]
  },
  {
   "cell_type": "code",
   "execution_count": 29,
   "id": "6efe56c3",
   "metadata": {},
   "outputs": [
    {
     "name": "stdout",
     "output_type": "stream",
     "text": [
      "[[2 0 0 1 1 0 1 1 1 0 1 0 0]\n",
      " [0 1 1 0 0 1 0 0 0 1 0 1 0]\n",
      " [1 0 0 0 0 0 0 0 0 0 0 0 1]]\n",
      "['事业' '关心' '发展' '坚定' '学会' '扶持' '支持' '教育' '期间' '民办学校' '民办教育' '热忱' '重大贡献']\n"
     ]
    }
   ],
   "source": [
    "from sklearn.feature_extraction.text import CountVectorizer\n",
    "import jieba\n",
    "def fenci(str1):\n",
    "    return \" \".join(list(jieba.cut(str1))) \n",
    "# print(fenci(\"教育学会会长期间坚定支持民办教育事业！\"))\n",
    "\n",
    "\n",
    "# 中文词频特征提取(中文必须有空格来分词 否则会把一句话当做一个特征)\n",
    "data=[\"教育学会会长期间坚定支持民办教育事业事业！\",\"热忱关心扶持民办学校发展\",\"事业做出重大贡献！\"]\n",
    "data=[fenci(el) for el in data]\n",
    "# print(data)\n",
    "cv=CountVectorizer(stop_words=[\"做出\",\"会长\"])#创建词频特征提取器\n",
    "data=cv.fit_transform(data)#特征提取(转换)\n",
    "print(data.toarray())#三元组表转数组\n",
    "print(cv.get_feature_names_out())#查看每一个特征的特征名"
   ]
  },
  {
   "cell_type": "code",
   "execution_count": 32,
   "id": "71da0bd8",
   "metadata": {},
   "outputs": [
    {
     "name": "stdout",
     "output_type": "stream",
     "text": [
      "[[0.49840822 0.32767345 0.         0.         0.         0.32767345\n",
      "  0.32767345 0.         0.32767345 0.32767345 0.32767345 0.\n",
      "  0.32767345 0.         0.        ]\n",
      " [0.         0.         0.         0.4472136  0.4472136  0.\n",
      "  0.         0.4472136  0.         0.         0.         0.4472136\n",
      "  0.         0.4472136  0.        ]\n",
      " [0.4736296  0.         0.62276601 0.         0.         0.\n",
      "  0.         0.         0.         0.         0.         0.\n",
      "  0.         0.         0.62276601]]\n",
      "['事业' '会长' '做出' '关心' '发展' '坚定' '学会' '扶持' '支持' '教育' '期间' '民办学校' '民办教育' '热忱'\n",
      " '重大贡献']\n"
     ]
    }
   ],
   "source": [
    "# 稀有度(词语的重要程度)特征提取\n",
    "from sklearn.feature_extraction.text import TfidfVectorizer\n",
    "import jieba\n",
    "def fenci(str1):\n",
    "    return \" \".join(list(jieba.cut(str1))) \n",
    "data=[\"教育学会会长期间坚定支持民办教育事业事业！\",\"热忱关心扶持民办学校发展\",\"事业做出重大贡献！\"]\n",
    "data=[fenci(el) for el in data]\n",
    "# print(data)\n",
    "tool=TfidfVectorizer()#创建工具\n",
    "tf_idf=tool.fit_transform(data)#转换\n",
    "print(tf_idf.toarray())\n",
    "print(tool.get_feature_names_out())"
   ]
  },
  {
   "cell_type": "code",
   "execution_count": 1,
   "id": "53bb0d1b",
   "metadata": {},
   "outputs": [
    {
     "name": "stderr",
     "output_type": "stream",
     "text": [
      "Building prefix dict from the default dictionary ...\n",
      "Loading model from cache C:\\Users\\JYL\\AppData\\Local\\Temp\\jieba.cache\n",
      "Loading model cost 0.372 seconds.\n",
      "Prefix dict has been built successfully.\n"
     ]
    },
    {
     "name": "stdout",
     "output_type": "stream",
     "text": [
      "[[2 1 0 0 0 1 1 0 1 1 1 0 1 0 0]\n",
      " [0 0 0 1 1 0 0 1 0 0 0 1 0 1 0]\n",
      " [1 0 1 0 0 0 0 0 0 0 0 0 0 0 1]]\n",
      "[1.28768207 1.69314718 1.69314718 1.69314718 1.69314718 1.69314718\n",
      " 1.69314718 1.69314718 1.69314718 1.69314718 1.69314718 1.69314718\n",
      " 1.69314718 1.69314718 1.69314718]\n",
      "[[0.49840822 0.32767345 0.         0.         0.         0.32767345\n",
      "  0.32767345 0.         0.32767345 0.32767345 0.32767345 0.\n",
      "  0.32767345 0.         0.        ]\n",
      " [0.         0.         0.         0.4472136  0.4472136  0.\n",
      "  0.         0.4472136  0.         0.         0.         0.4472136\n",
      "  0.         0.4472136  0.        ]\n",
      " [0.4736296  0.         0.62276601 0.         0.         0.\n",
      "  0.         0.         0.         0.         0.         0.\n",
      "  0.         0.         0.62276601]]\n"
     ]
    }
   ],
   "source": [
    "# 手动实现tf-idf\n",
    "from sklearn.feature_extraction.text import CountVectorizer\n",
    "import jieba\n",
    "import numpy as np\n",
    "from sklearn.preprocessing import normalize\n",
    "def fenci(str1):\n",
    "    return \" \".join(list(jieba.cut(str1))) \n",
    "data=[\"教育学会会长期间坚定支持民办教育事业事业！\",\"热忱关心扶持民办学校发展\",\"事业做出重大贡献！\"]\n",
    "data=[fenci(el) for el in data]\n",
    "# print(data)\n",
    "\n",
    "def if_idf(x):\n",
    "    cv=CountVectorizer()\n",
    "    tf=cv.fit_transform(x).toarray()\n",
    "    print(tf)\n",
    "    # print(tf!=0)\n",
    "    fenzi=len(tf)+1\n",
    "    fenmu=np.sum(tf!=0,axis=0)+1\n",
    "    idf=np.log(fenzi/fenmu)+1\n",
    "    print(idf)\n",
    "    tf_idf=tf*idf\n",
    "    \n",
    "    tf_idf=normalize(tf_idf,norm=\"l2\",axis=1)\n",
    "    print(tf_idf)\n",
    "if_idf(data)"
   ]
  }
 ],
 "metadata": {
  "kernelspec": {
   "display_name": "Python 3",
   "language": "python",
   "name": "python3"
  },
  "language_info": {
   "codemirror_mode": {
    "name": "ipython",
    "version": 3
   },
   "file_extension": ".py",
   "mimetype": "text/x-python",
   "name": "python",
   "nbconvert_exporter": "python",
   "pygments_lexer": "ipython3",
   "version": "3.9.21"
  }
 },
 "nbformat": 4,
 "nbformat_minor": 5
}
