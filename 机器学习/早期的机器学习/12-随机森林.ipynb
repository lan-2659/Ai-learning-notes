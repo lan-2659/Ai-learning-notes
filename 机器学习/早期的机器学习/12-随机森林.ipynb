{
 "cells": [
  {
   "cell_type": "code",
   "execution_count": 12,
   "id": "51be534d",
   "metadata": {},
   "outputs": [
    {
     "name": "stdout",
     "output_type": "stream",
     "text": [
      "准确率: 0.779467680608365\n",
      "预测 [1 1]\n"
     ]
    },
    {
     "name": "stderr",
     "output_type": "stream",
     "text": [
      "C:\\Users\\JYL\\AppData\\Local\\Temp\\ipykernel_16980\\4065625124.py:14: FutureWarning: A value is trying to be set on a copy of a DataFrame or Series through chained assignment using an inplace method.\n",
      "The behavior will change in pandas 3.0. This inplace method will never work because the intermediate object on which we are setting values always behaves as a copy.\n",
      "\n",
      "For example, when doing 'df[col].method(value, inplace=True)', try using 'df.method({col: value}, inplace=True)' or df[col] = df[col].method(value) instead, to perform the operation inplace on the original object.\n",
      "\n",
      "\n",
      "  x[\"age\"].fillna(x[\"age\"].mean(),inplace=True)#dadaframe\n",
      "C:\\Users\\JYL\\AppData\\Local\\Temp\\ipykernel_16980\\4065625124.py:14: SettingWithCopyWarning: \n",
      "A value is trying to be set on a copy of a slice from a DataFrame\n",
      "\n",
      "See the caveats in the documentation: https://pandas.pydata.org/pandas-docs/stable/user_guide/indexing.html#returning-a-view-versus-a-copy\n",
      "  x[\"age\"].fillna(x[\"age\"].mean(),inplace=True)#dadaframe\n"
     ]
    }
   ],
   "source": [
    "import pandas as pd\n",
    "from sklearn.ensemble import RandomForestClassifier\n",
    "from sklearn.model_selection import train_test_split\n",
    "from sklearn.preprocessing import StandardScaler\n",
    "from sklearn.feature_extraction import DictVectorizer\n",
    "\n",
    "def train():\n",
    "    # 加载数据\n",
    "    data=pd.read_csv(\"./src/titanic/titanic.csv\")#dadaframe\n",
    "\n",
    "    # 预处理\n",
    "    y=data[\"survived\"].to_numpy()#ndarray\n",
    "    x=data[[\"pclass\",\"age\",\"sex\"]]\n",
    "    x[\"age\"].fillna(x[\"age\"].mean(),inplace=True)#dadaframe\n",
    "    x=x.to_dict(orient=\"records\")#每条数据转化为一个字典\n",
    "   \n",
    "    # 特征提取\n",
    "    transfer=DictVectorizer(sparse=False)\n",
    "    x=transfer.fit_transform(x)\n",
    "    # print(x)\n",
    "    # print(transfer.get_feature_names_out())\n",
    "\n",
    "    # 数据集划分\n",
    "    x_train,x_test,y_train,y_test=train_test_split(x,y,test_size=0.2,random_state=22)\n",
    "\n",
    "    # 标准化\n",
    "    transfer2=StandardScaler()\n",
    "    x=transfer2.fit_transform(x_train)\n",
    "\n",
    "    # 创建随机森林算法的模型\n",
    "    model=RandomForestClassifier(n_estimators=10,max_depth=3,random_state=22)\n",
    "    model.fit(x_train,y_train)#训练模型(统计训练集的信息)\n",
    "    # 模型评估\n",
    "    score=model.score(x_test,y_test)\n",
    "    print(\"准确率:\",score)\n",
    "\n",
    "    # 预测-推理\n",
    "    x_new=[{\"pclass\":3,\"age\":1,\"sex\":\"male\"},\n",
    "           {\"pclass\":1,\"age\":26,\"sex\":\"female\"}]\n",
    "    x_new=transfer.transform(x_new)\n",
    "    x_new=transfer2.transform(x_new)\n",
    "    y_pred=model.predict(x_new)\n",
    "    print(\"预测\",y_pred)\n",
    "if __name__ == '__main__':\n",
    "    train()"
   ]
  }
 ],
 "metadata": {
  "kernelspec": {
   "display_name": "Python 3",
   "language": "python",
   "name": "python3"
  },
  "language_info": {
   "codemirror_mode": {
    "name": "ipython",
    "version": 3
   },
   "file_extension": ".py",
   "mimetype": "text/x-python",
   "name": "python",
   "nbconvert_exporter": "python",
   "pygments_lexer": "ipython3",
   "version": "3.9.21"
  }
 },
 "nbformat": 4,
 "nbformat_minor": 5
}
