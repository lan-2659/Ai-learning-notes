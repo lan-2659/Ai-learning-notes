{
 "cells": [
  {
   "cell_type": "code",
   "execution_count": 10,
   "id": "f4fdb18b",
   "metadata": {},
   "outputs": [
    {
     "name": "stdout",
     "output_type": "stream",
     "text": [
      "新数据预测结果: [1 0]\n"
     ]
    }
   ],
   "source": [
    "# 引入数据集\n",
    "from sklearn.datasets import load_iris\n",
    "# 引入KNN模型\n",
    "from sklearn.neighbors import KNeighborsClassifier\n",
    "# 引入标准化工具\n",
    "from sklearn.preprocessing import StandardScaler\n",
    "# 引入数据集划分工具\n",
    "from sklearn.model_selection import train_test_split\n",
    "import numpy as np\n",
    "import joblib\n",
    "\n",
    "# 训练函数\n",
    "def train():\n",
    "    # 加载数据\n",
    "    iris = load_iris()#加载鸢尾花数据集\n",
    "    x=iris.data#鸢尾花的特征数据(x)\n",
    "    y=iris.target#鸢尾花的标签数据(y)\n",
    "    # 数据集划分\n",
    "    x_train,x_test,y_train,y_test=train_test_split(x,y,test_size=0.2,random_state=22)\n",
    "    # 把训练数据进行数据标准化\n",
    "    transfer=StandardScaler()\n",
    "    x_train=transfer.fit_transform(x_train)\n",
    "    # 创建knn算法的模型\n",
    "    model=KNeighborsClassifier(n_neighbors=5)\n",
    "    # 使用训练集训练模型\n",
    "    model.fit(x_train,y_train)\n",
    "\n",
    "    # 使用测试集数据对模型进行评估\n",
    "    x_test=transfer.transform(x_test)#使用训练集中的均值和标准差来转换测试集的数据\n",
    "    score=model.score(x_test,y_test)#模型自带的评估函数\n",
    "    print(\"准确率:\",score)\n",
    "    # 自己写一个评估函数\n",
    "    y_pred=model.predict(x_test)\n",
    "    score=np.sum(y_pred==y_test)/len(y_test)\n",
    "    print(\"准确率:\",score)\n",
    "\n",
    "    # 保存模型\n",
    "    if score>0.9:\n",
    "        joblib.dump(model,\"./src/model/knnmodel.pkl\")\n",
    "        joblib.dump(transfer,\"./src/model/knntransfer.pkl\")\n",
    "    else:\n",
    "        print(\"模型效果不好\")\n",
    "\n",
    "#推理函数 \n",
    "def detect():\n",
    "    # 加载模型\n",
    "    model=joblib.load(\"./src/model/knnmodel.pkl\")\n",
    "    transfer=joblib.load(\"./src/model/knntransfer.pkl\")\n",
    "    #新数据去做推理\n",
    "    x_new=[[1,2,3,4],\n",
    "           [2.5,4.5,2.5,2.5]]\n",
    "    x_new=transfer.transform(x_new)\n",
    "    y_new=model.predict(x_new)\n",
    "    print(\"新数据预测结果:\",y_new)\n",
    "\n",
    "\n",
    "if __name__ == '__main__':\n",
    "    # train()\n",
    "    detect()\n"
   ]
  }
 ],
 "metadata": {
  "kernelspec": {
   "display_name": "Python 3",
   "language": "python",
   "name": "python3"
  },
  "language_info": {
   "codemirror_mode": {
    "name": "ipython",
    "version": 3
   },
   "file_extension": ".py",
   "mimetype": "text/x-python",
   "name": "python",
   "nbconvert_exporter": "python",
   "pygments_lexer": "ipython3",
   "version": "3.9.21"
  }
 },
 "nbformat": 4,
 "nbformat_minor": 5
}
