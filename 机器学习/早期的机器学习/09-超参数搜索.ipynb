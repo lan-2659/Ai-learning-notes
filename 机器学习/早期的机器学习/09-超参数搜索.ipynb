{
 "cells": [
  {
   "cell_type": "code",
   "execution_count": 27,
   "id": "bc5e13df",
   "metadata": {},
   "outputs": [
    {
     "name": "stdout",
     "output_type": "stream",
     "text": [
      "最佳参数: {'n_neighbors': 6}\n",
      "最佳结果: 0.9416666666666667\n",
      "最佳模型: KNeighborsClassifier(n_neighbors=6)\n",
      "预测结果: [2]\n",
      "信息: {'mean_fit_time': array([0.        , 0.00040026, 0.00030026, 0.00081091]), 'std_fit_time': array([0.        , 0.00049021, 0.00060053, 0.00040628]), 'mean_score_time': array([0.00180187, 0.00140128, 0.00102615, 0.00129118]), 'std_score_time': array([0.00051117, 0.00058427, 0.00027804, 0.0004092 ]), 'param_n_neighbors': masked_array(data=[3, 4, 6, 7],\n",
      "             mask=[False, False, False, False],\n",
      "       fill_value=999999), 'params': [{'n_neighbors': 3}, {'n_neighbors': 4}, {'n_neighbors': 6}, {'n_neighbors': 7}], 'split0_test_score': array([0.91666667, 0.91666667, 0.91666667, 0.91666667]), 'split1_test_score': array([0.83333333, 0.83333333, 0.91666667, 0.875     ]), 'split2_test_score': array([1.        , 1.        , 0.95833333, 1.        ]), 'split3_test_score': array([1.        , 0.95833333, 0.95833333, 1.        ]), 'split4_test_score': array([0.875     , 0.875     , 0.95833333, 0.91666667]), 'mean_test_score': array([0.925     , 0.91666667, 0.94166667, 0.94166667]), 'std_test_score': array([0.06666667, 0.05892557, 0.02041241, 0.05      ]), 'rank_test_score': array([3, 4, 1, 1])}\n",
      "最佳下标 2\n",
      "预测结果: [2]\n"
     ]
    }
   ],
   "source": [
    "from sklearn.neighbors import KNeighborsClassifier\n",
    "from sklearn.datasets import load_iris\n",
    "from sklearn.model_selection import train_test_split\n",
    "from sklearn.preprocessing import StandardScaler\n",
    "import numpy as np\n",
    "from sklearn.model_selection import GridSearchCV\n",
    "x,y=load_iris(return_X_y=True)\n",
    "x_train,x_test,y_train,y_test=train_test_split(x,y,test_size=0.2,random_state=0)\n",
    "\n",
    "# 创建 knn模型\n",
    "knn_model=KNeighborsClassifier(n_neighbors=7)\n",
    "model=GridSearchCV(knn_model,param_grid={\"n_neighbors\":[3,4,6,7]})\n",
    "\n",
    "transfer=StandardScaler()\n",
    "x_train=transfer.fit_transform(x_train)\n",
    "x_test=transfer.transform(x_test)\n",
    "\n",
    "\n",
    "model.fit(x_train,y_train)\n",
    "\n",
    "print(\"最佳参数:\",model.best_params_)\n",
    "print(\"最佳结果:\",model.best_score_)\n",
    "print(\"最佳模型:\",model.best_estimator_)\n",
    "y_pred=model.best_estimator_.predict([[1,2,3,4]])\n",
    "print(\"预测结果:\",y_pred)\n",
    "\n",
    "print(\"信息:\",model.cv_results_)\n",
    "print(\"最佳下标\",model.best_index_)\n",
    "\n",
    "y_pred=model.predict([[1,2,3,4]])\n",
    "print(\"预测结果:\",y_pred)"
   ]
  }
 ],
 "metadata": {
  "kernelspec": {
   "display_name": "Python 3",
   "language": "python",
   "name": "python3"
  },
  "language_info": {
   "codemirror_mode": {
    "name": "ipython",
    "version": 3
   },
   "file_extension": ".py",
   "mimetype": "text/x-python",
   "name": "python",
   "nbconvert_exporter": "python",
   "pygments_lexer": "ipython3",
   "version": "3.9.21"
  }
 },
 "nbformat": 4,
 "nbformat_minor": 5
}
