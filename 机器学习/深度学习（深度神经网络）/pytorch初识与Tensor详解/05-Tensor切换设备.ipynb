{
 "cells": [
  {
   "cell_type": "code",
   "execution_count": 1,
   "id": "9cb41c00",
   "metadata": {},
   "outputs": [
    {
     "name": "stdout",
     "output_type": "stream",
     "text": [
      "tensor([[1, 2],\n",
      "        [3, 4]], device='cuda:0')\n",
      "cuda:0\n"
     ]
    }
   ],
   "source": [
    "import torch\n",
    "\n",
    "\n",
    "# 创建张量时指定设备\n",
    "tensor = torch.tensor([[1, 2], [3, 4]], device='cuda')\n",
    "print(tensor)\n",
    "\n",
    "\n",
    "t2 = tensor.to('cuda')      # 返回一个内容相同的张量副本（若设备不同），存储在GPU上\n",
    "t2 = tensor.cpu()           # 返回CPU上的张量副本（若原张量在GPU）\n",
    "t2 = tensor.cuda()          # 返回GPU上的张量副本（若原张量在CPU）\n",
    "\"\"\"上面这三个方法都会先检查原张量的位置，若原张量位置与副本创建的位置一致，则直接返回原张量，取消创建副本\"\"\"\n",
    "\n",
    "print(t2.device)"
   ]
  }
 ],
 "metadata": {
  "kernelspec": {
   "display_name": "Python 3",
   "language": "python",
   "name": "python3"
  },
  "language_info": {
   "codemirror_mode": {
    "name": "ipython",
    "version": 3
   },
   "file_extension": ".py",
   "mimetype": "text/x-python",
   "name": "python",
   "nbconvert_exporter": "python",
   "pygments_lexer": "ipython3",
   "version": "3.9.23"
  }
 },
 "nbformat": 4,
 "nbformat_minor": 5
}
