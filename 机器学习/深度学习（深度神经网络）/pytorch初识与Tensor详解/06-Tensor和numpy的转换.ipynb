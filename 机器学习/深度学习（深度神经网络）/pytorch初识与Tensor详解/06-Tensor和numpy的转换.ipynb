{
 "cells": [
  {
   "cell_type": "markdown",
   "id": "e5535f3e",
   "metadata": {},
   "source": [
    "**Tensor转换为numpy**"
   ]
  },
  {
   "cell_type": "code",
   "execution_count": null,
   "id": "4922a56d",
   "metadata": {},
   "outputs": [],
   "source": [
    "import torch\n",
    "import numpy as np\n",
    "\n",
    "tensor = torch.tensor([[1, 2], [3, 4]])\n",
    "\n",
    "# 浅拷贝\n",
    "arr1 = tensor.numpy()\n",
    "print(arr1)\n",
    "\n",
    "# 深拷贝\n",
    "arr2 = tensor.numpy().copy()\n",
    "print(arr2)"
   ]
  },
  {
   "cell_type": "markdown",
   "id": "619b1728",
   "metadata": {},
   "source": [
    "**numpy转换为Tensor**\n"
   ]
  },
  {
   "cell_type": "code",
   "execution_count": null,
   "id": "23c3bb7a",
   "metadata": {},
   "outputs": [],
   "source": [
    "import torch\n",
    "import numpy as np\n",
    "\n",
    "arr = np.array([[1, 2], [3, 4]])\n",
    "\n",
    "# 浅拷贝\n",
    "tensor1 = torch.from_numpy(arr)\n",
    "print(tensor1)\n",
    "\n",
    "# 深拷贝\n",
    "tensor2 = torch.tensor(arr)\n",
    "print(tensor2)"
   ]
  }
 ],
 "metadata": {
  "language_info": {
   "name": "python"
  }
 },
 "nbformat": 4,
 "nbformat_minor": 5
}
