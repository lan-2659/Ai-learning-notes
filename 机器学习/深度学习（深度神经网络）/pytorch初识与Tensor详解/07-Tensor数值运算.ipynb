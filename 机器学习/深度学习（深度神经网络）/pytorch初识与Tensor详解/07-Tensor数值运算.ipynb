{
 "cells": [
  {
   "cell_type": "markdown",
   "id": "59d320e4",
   "metadata": {},
   "source": [
    "从只含有单个元素的张量中获取其元素"
   ]
  },
  {
   "cell_type": "code",
   "execution_count": null,
   "id": "5e7e1d21",
   "metadata": {},
   "outputs": [
    {
     "name": "stdout",
     "output_type": "stream",
     "text": [
      "1\n"
     ]
    }
   ],
   "source": [
    "import torch\n",
    "\n",
    "# item(): 从单个元素的Tensor中获取标量值\n",
    "# 获取元素和Tensor的维度没有关系，只要Tensor只有一个元素，都可以使用该方法取值\n",
    "t1 = torch.tensor([1], device='cpu')\n",
    "print(t1.item())"
   ]
  },
  {
   "cell_type": "code",
   "execution_count": null,
   "id": "bd47879a",
   "metadata": {},
   "outputs": [],
   "source": [
    "\"\"\"\n",
    "可以通过运算符，直接对不同的张量进行计算\n",
    "但是要注意张量形状需要相同，或者可以广播也行\n",
    "运算的结果就是，对应位置的数字分别进行运算\n",
    "\"\"\"\n",
    "\n",
    "import torch\n",
    "\n",
    "# 生成范围 [0, 10) 的 2x3 随机整数张量\n",
    "data1 = torch.randint(0, 10, (2, 3))\n",
    "data2 = torch.randint(0, 10, (2, 3))\n",
    "\n",
    "# 加\n",
    "data = data1 + data2\n",
    "# 减\n",
    "data = data1 - data2\n",
    "# 乘\n",
    "data = data1 * data2\n",
    "# 除\n",
    "data = data1 / data2\n",
    "# 次方\n",
    "data = data1 ** data2\n",
    "# 取反\n",
    "data = -data1\n",
    "# 开方\n",
    "data = data1.sqrt()\n",
    "\n",
    "\n"
   ]
  },
  {
   "cell_type": "code",
   "execution_count": 4,
   "id": "94b7b0e6",
   "metadata": {},
   "outputs": [
    {
     "name": "stdout",
     "output_type": "stream",
     "text": [
      "tensor([[ 2,  6, 12],\n",
      "        [ 8, 10, 18]])\n",
      "tensor([[ 2,  6, 12],\n",
      "        [ 8, 10, 18]])\n"
     ]
    }
   ],
   "source": [
    "\"\"\"\n",
    "可以计算阿达玛积\n",
    "阿达玛积是指两个形状相同的矩阵或张量对应位置的元素相乘。\n",
    "\"\"\"\n",
    "import torch\n",
    "\n",
    "# 通过 * 直接计算两个形状相同的张量的阿达玛积\n",
    "def test001():\n",
    "    data1 = torch.tensor([[1, 2, 3], [4, 5, 6]])\n",
    "    data2 = torch.tensor([[2, 3, 4], [2, 2, 3]])\n",
    "    print(data1 * data2)\n",
    "\n",
    "# 通过 mul()方法 计算两个形状相同的张量的阿达玛积\n",
    "def test002():\n",
    "    data1 = torch.tensor([[1, 2, 3], [4, 5, 6]])\n",
    "    data2 = torch.tensor([[2, 3, 4], [2, 2, 3]])\n",
    "    print(data1.mul(data2))\n",
    "\n",
    "\n",
    "test001()\n",
    "test002()\n"
   ]
  },
  {
   "cell_type": "code",
   "execution_count": 5,
   "id": "d015cba3",
   "metadata": {},
   "outputs": [
    {
     "name": "stdout",
     "output_type": "stream",
     "text": [
      "tensor([[22, 17],\n",
      "        [52, 41]])\n",
      "tensor([[22, 17],\n",
      "        [52, 41]])\n"
     ]
    }
   ],
   "source": [
    "\"\"\"\n",
    "Tensor可以实现矩阵乘法，但需要严格遵循矩阵乘法(点积)规则\n",
    "    如果第一个矩阵的shape是 (N, M)，\n",
    "    那么第二个矩阵 shape必须是 (M, P)，\n",
    "    最后两个矩阵点积运算的shape为 (N, P)。\n",
    "在 PyTorch 中，使用 @ 或者 matmul()方法 完成Tensor的乘法。\n",
    "\"\"\"\n",
    "\n",
    "import torch\n",
    "\n",
    "data1 = torch.tensor([\n",
    "    [1, 2, 3], \n",
    "    [4, 5, 6]\n",
    "])\n",
    "data2 = torch.tensor([\n",
    "    [3, 2], \n",
    "    [2, 3], \n",
    "    [5, 3]\n",
    "])\n",
    "\n",
    "print(data1 @ data2)\n",
    "print(data1.matmul(data2))\n",
    "\n",
    "\n"
   ]
  }
 ],
 "metadata": {
  "kernelspec": {
   "display_name": "universal",
   "language": "python",
   "name": "python3"
  },
  "language_info": {
   "codemirror_mode": {
    "name": "ipython",
    "version": 3
   },
   "file_extension": ".py",
   "mimetype": "text/x-python",
   "name": "python",
   "nbconvert_exporter": "python",
   "pygments_lexer": "ipython3",
   "version": "3.9.23"
  }
 },
 "nbformat": 4,
 "nbformat_minor": 5
}
