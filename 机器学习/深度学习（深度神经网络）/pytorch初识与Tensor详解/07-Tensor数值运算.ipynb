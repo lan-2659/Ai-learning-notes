{
 "cells": [
  {
   "cell_type": "code",
   "execution_count": null,
   "id": "5e7e1d21",
   "metadata": {},
   "outputs": [
    {
     "name": "stdout",
     "output_type": "stream",
     "text": [
      "1\n"
     ]
    }
   ],
   "source": [
    "\"\"\"\n",
    "我们可以把单个元素tensor转换为Python数值，这是非常常用的操作\n",
    "\"\"\"\n",
    "\n",
    "import torch\n",
    "\n",
    "# item(): 从单个元素的Tensor中获取标量值\n",
    "# 获取元素和Tensor的维度没有关系，只要Tensor只有一个元素，都可以使用该方法取值\n",
    "# 且仅适用于CPU张量\n",
    "t1 = torch.tensor([1])\n",
    "print(t1.item())"
   ]
  },
  {
   "cell_type": "code",
   "execution_count": null,
   "id": "bd47879a",
   "metadata": {},
   "outputs": [
    {
     "name": "stdout",
     "output_type": "stream",
     "text": [
      "tensor([[8, 7, 9],\n",
      "        [6, 3, 0]])\n",
      "tensor([[ 9,  8, 10],\n",
      "        [ 7,  4,  1]])\n",
      "tensor([[ 7,  6,  8],\n",
      "        [ 5,  2, -1]])\n",
      "tensor([[16, 14, 18],\n",
      "        [12,  6,  0]])\n",
      "tensor([[2.6667, 2.3333, 3.0000],\n",
      "        [2.0000, 1.0000, 0.0000]])\n",
      "tensor([[64, 49, 81],\n",
      "        [36,  9,  0]])\n",
      "tensor([[28.4444, 21.7778, 36.0000],\n",
      "        [16.0000,  4.0000,  0.0000]])\n"
     ]
    }
   ],
   "source": [
    "\"\"\"\n",
    "常见的加减乘除次方取反开方等各种操作，带有_的方法则会替换原始值。\n",
    "\"\"\"\n",
    "\n",
    "import torch\n",
    "\n",
    "# 生成范围 [0, 10) 的 2x3 随机整数张量\n",
    "data = torch.randint(0, 10, (2, 3))\n",
    "print(data)\n",
    "\n",
    "# 元素级别的加减乘除幂运算：不修改原始值，返回一个新的张量\n",
    "print(data.add(1))\n",
    "print(data.sub(1))\n",
    "print(data.mul(2))\n",
    "print(data.div(3))\n",
    "print(data.pow(2))\n",
    "\n",
    "# 元素级别的加减乘除幂运算：修改原始值\n",
    "data = data.float()\n",
    "data.add_(1)\n",
    "data.sub_(1)\n",
    "data.mul_(2)\n",
    "data.div_(3.0)\n",
    "data.pow_(2)\n",
    "print(data)\n"
   ]
  },
  {
   "cell_type": "code",
   "execution_count": 4,
   "id": "94b7b0e6",
   "metadata": {},
   "outputs": [
    {
     "name": "stdout",
     "output_type": "stream",
     "text": [
      "tensor([[ 2,  6, 12],\n",
      "        [ 8, 10, 18]])\n",
      "tensor([[ 2,  6, 12],\n",
      "        [ 8, 10, 18]])\n"
     ]
    }
   ],
   "source": [
    "\"\"\"\n",
    "可以计算阿达玛积\n",
    "阿达玛积是指两个形状相同的矩阵或张量对应位置的元素相乘。\n",
    "\"\"\"\n",
    "import torch\n",
    "\n",
    "# 通过 * 直接计算两个形状相同的张量的阿达玛积\n",
    "def test001():\n",
    "    data1 = torch.tensor([[1, 2, 3], [4, 5, 6]])\n",
    "    data2 = torch.tensor([[2, 3, 4], [2, 2, 3]])\n",
    "    print(data1 * data2)\n",
    "\n",
    "# 通过 mul()方法 计算两个形状相同的张量的阿达玛积\n",
    "def test002():\n",
    "    data1 = torch.tensor([[1, 2, 3], [4, 5, 6]])\n",
    "    data2 = torch.tensor([[2, 3, 4], [2, 2, 3]])\n",
    "    print(data1.mul(data2))\n",
    "\n",
    "\n",
    "test001()\n",
    "test002()\n"
   ]
  },
  {
   "cell_type": "code",
   "execution_count": 5,
   "id": "d015cba3",
   "metadata": {},
   "outputs": [
    {
     "name": "stdout",
     "output_type": "stream",
     "text": [
      "tensor([[22, 17],\n",
      "        [52, 41]])\n",
      "tensor([[22, 17],\n",
      "        [52, 41]])\n"
     ]
    }
   ],
   "source": [
    "\"\"\"\n",
    "Tensor可以实现矩阵乘法，但需要严格遵循矩阵乘法(点积)规则\n",
    "    如果第一个矩阵的shape是 (N, M)，\n",
    "    那么第二个矩阵 shape必须是 (M, P)，\n",
    "    最后两个矩阵点积运算的shape为 (N, P)。\n",
    "在 PyTorch 中，使用 @ 或者 matmul()方法 完成Tensor的乘法。\n",
    "\"\"\"\n",
    "\n",
    "import torch\n",
    "\n",
    "data1 = torch.tensor([\n",
    "    [1, 2, 3], \n",
    "    [4, 5, 6]\n",
    "])\n",
    "data2 = torch.tensor([\n",
    "    [3, 2], \n",
    "    [2, 3], \n",
    "    [5, 3]\n",
    "])\n",
    "\n",
    "print(data1 @ data2)\n",
    "print(data1.matmul(data2))\n",
    "\n",
    "\n"
   ]
  }
 ],
 "metadata": {
  "kernelspec": {
   "display_name": "universal",
   "language": "python",
   "name": "python3"
  },
  "language_info": {
   "codemirror_mode": {
    "name": "ipython",
    "version": 3
   },
   "file_extension": ".py",
   "mimetype": "text/x-python",
   "name": "python",
   "nbconvert_exporter": "python",
   "pygments_lexer": "ipython3",
   "version": "3.9.23"
  }
 },
 "nbformat": 4,
 "nbformat_minor": 5
}
