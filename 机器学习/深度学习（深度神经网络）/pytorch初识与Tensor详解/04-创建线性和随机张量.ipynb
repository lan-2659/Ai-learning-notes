{
 "cells": [
  {
   "cell_type": "code",
   "execution_count": null,
   "id": "658a85b1",
   "metadata": {},
   "outputs": [
    {
     "name": "stdout",
     "output_type": "stream",
     "text": [
      "tensor([0, 2, 4, 6, 8])\n",
      "tensor([ 3.0000,  3.7778,  4.5556,  5.3333,  6.1111,  6.8889,  7.6667,  8.4444,\n",
      "         9.2222, 10.0000])\n",
      "tensor([    3.0000, 1111113.7500, 2222224.5000, 3333335.2500, 4444446.0000, 5555557.0000,\n",
      "        6666668.0000, 7777778.5000, 8888889.0000, 10000000.0000])\n"
     ]
    }
   ],
   "source": [
    "\"\"\"\n",
    "创建线性张量\n",
    "\"\"\"\n",
    "\n",
    "import torch\n",
    "\n",
    "# 不用科学计数法打印\n",
    "torch.set_printoptions(sci_mode=False)\n",
    "\n",
    "# 1. 创建线性张量\n",
    "r1 = torch.arange(0, 10, 2)\n",
    "print(r1)\n",
    "\n",
    "# 2. 在指定空间按照元素个数生成张量：等差\n",
    "r2 = torch.linspace(3, 10, 10)\n",
    "print(r2)\n",
    "\n",
    "r2 = torch.linspace(3, 10000000, 10)\n",
    "print(r2)\n",
    "    "
   ]
  },
  {
   "cell_type": "code",
   "execution_count": null,
   "id": "7ee9e7a8",
   "metadata": {},
   "outputs": [
    {
     "name": "stdout",
     "output_type": "stream",
     "text": [
      "123\n",
      "tensor([[0.2961, 0.5166, 0.2517],\n",
      "        [0.6886, 0.0740, 0.8665]])\n",
      "tensor([[ 0.9447,  0.6217, -1.3501],\n",
      "        [-0.1881, -2.3891, -0.4759]])\n",
      "tensor([[7.2808, 3.9642, 3.6471, 3.1014]])\n"
     ]
    }
   ],
   "source": [
    "\"\"\"\n",
    "创建随机张量\n",
    "\"\"\"\n",
    "import torch\n",
    "\n",
    "# 1. 设置随机数种子\n",
    "torch.manual_seed(123)\n",
    "\n",
    "# 2. 获取随机数种子，需要查看种子时调用\n",
    "print(torch.initial_seed())\n",
    "\n",
    "# 3. 生成随机张量，均匀分布（范围 [0, 1)）\n",
    "print(torch.rand(2, 3))\n",
    "\n",
    "# 4. 生成随机张量：标准正态分布（均值 0，标准差 1）\n",
    "print(torch.randn(2, 3))\n",
    "\n",
    "# 5. 原生服从正态分布：均值为2， 方差为3，形状为1*4的正态分布\n",
    "print(torch.normal(mean=2, std=3, size=(1, 4)))\n",
    "\n",
    "\n"
   ]
  }
 ],
 "metadata": {
  "kernelspec": {
   "display_name": "universal",
   "language": "python",
   "name": "python3"
  },
  "language_info": {
   "codemirror_mode": {
    "name": "ipython",
    "version": 3
   },
   "file_extension": ".py",
   "mimetype": "text/x-python",
   "name": "python",
   "nbconvert_exporter": "python",
   "pygments_lexer": "ipython3",
   "version": "3.9.23"
  }
 },
 "nbformat": 4,
 "nbformat_minor": 5
}
