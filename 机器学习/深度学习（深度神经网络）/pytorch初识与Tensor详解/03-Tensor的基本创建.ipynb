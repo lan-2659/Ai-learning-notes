{
 "cells": [
  {
   "cell_type": "code",
   "execution_count": null,
   "id": "ff3bf1f9",
   "metadata": {},
   "outputs": [
    {
     "name": "stdout",
     "output_type": "stream",
     "text": [
      "tensor([[1, 2],\n",
      "        [3, 4]])\n",
      "cpu\n"
     ]
    }
   ],
   "source": [
    "\"\"\"\n",
    "在Torch中张量以 \"类\" 的形式封装起来，对张量的一些运算、处理的方法被封装在类中，官方文档：\n",
    "https://pytorch.org/docs/stable/torch.html#tensors\n",
    "\"\"\"\n",
    "\n",
    "import torch\n",
    "\n",
    "# 使用torch.tensor()创建张量(常用)\n",
    "tensor = torch.tensor([[1, 2], [3, 4]])\n",
    "\"\"\"\n",
    "torch.tensor(\n",
    "    data: Any,                      # 输入数据(标量、序列(列表/元组)、多维数组、Numpy 数组、其他张量对象)\n",
    "    dtype: dtype | None = None,     # 输出张量的数据类型(可选，不指定会自动判断)\n",
    "    device: DeviceLikeType | None = None,  # 控制张量存储位置('cpu'|'cuda'|'cuda:0', 不指定会使用默认设备)\n",
    "    requires_grad: bool = False,    # 是否启用梯度跟踪（Autograd 功能的核心开关）\n",
    "    pin_memory: bool = False        # 是否锁定主机内存，加速 CPU→GPU 数据传输(仅当 device='cpu' 时有效)\n",
    ") -> Tensor:    # 返回张量对象(新张量与原始对象完全独立)\n",
    "\"\"\"\n",
    "\n",
    "print(tensor)\n",
    "print(tensor.device)"
   ]
  },
  {
   "cell_type": "code",
   "execution_count": 1,
   "id": "f2c38819",
   "metadata": {},
   "outputs": [
    {
     "name": "stdout",
     "output_type": "stream",
     "text": [
      "tensor([[1., 2.],\n",
      "        [3., 4.]])\n",
      "torch.float32\n"
     ]
    }
   ],
   "source": [
    "import torch\n",
    "\n",
    "# 使用torch.Tensor()构造函数创建张量(不常用)\n",
    "x = torch.Tensor([[1, 2], [3, 4]])\n",
    "\"\"\"\n",
    "class Tensor(\n",
    "    *args: Any,                           # 输入数据\n",
    "    device: DeviceLikeType | None = None  # 可选设备参数\n",
    ")\n",
    "\n",
    "注：\n",
    "    这两个参数的传参与上面的 torch.tensor() 函数一样\n",
    "    数据类型会被强制指定为 torch.float32 \n",
    "\"\"\"\n",
    "\n",
    "print(x)\n",
    "print(x.dtype)"
   ]
  },
  {
   "cell_type": "code",
   "execution_count": 4,
   "id": "cc9e1321",
   "metadata": {},
   "outputs": [
    {
     "name": "stdout",
     "output_type": "stream",
     "text": [
      "tensor([[377553376,      1481,         0],\n",
      "        [        0,         0,         0]], dtype=torch.int32) torch.int32\n",
      "------------------------------------------------------------------------------------------\n",
      "tensor([[0., 0., 0.],\n",
      "        [0., 0., 0.],\n",
      "        [0., 0., 0.]]) torch.float32\n",
      "------------------------------------------------------------------------------------------\n",
      "tensor([[0., 0., 0.],\n",
      "        [0., 0., 0.],\n",
      "        [0., 0., 0.]], dtype=torch.float64) torch.float64\n",
      "------------------------------------------------------------------------------------------\n",
      "tensor([[6361224316320,             0,             0],\n",
      "        [            0,             0,             0],\n",
      "        [            0,             0,             0]]) torch.int64\n",
      "------------------------------------------------------------------------------------------\n",
      "tensor([[0, 0, 0],\n",
      "        [0, 0, 0],\n",
      "        [0, 0, 0]], dtype=torch.int16) torch.int16\n"
     ]
    }
   ],
   "source": [
    "\"\"\"\n",
    "如果需要创建指定类型和形状的张量（这些张量均未初始化，包含内存中的随机值）\n",
    "\n",
    "还有诸如torch.IntTensor、torch.FloatTensor、torch.DoubleTensor、torch.LongTensor、torch.ShortTensor......等。\n",
    "\"\"\"\n",
    "\n",
    "import torch\n",
    "\n",
    "tt1 = torch.IntTensor(2, 3)\n",
    "print(tt1, tt1.dtype)\n",
    "print('---------' * 10)\n",
    "\n",
    "tt2 = torch.FloatTensor(3, 3)\n",
    "print(tt2, tt2.dtype)\n",
    "print('---------' * 10)\n",
    "\n",
    "tt3 = torch.DoubleTensor(3, 3)\n",
    "print(tt3, tt3.dtype)\n",
    "print('---------' * 10)\n",
    "\n",
    "tt4 = torch.LongTensor(3, 3)\n",
    "print(tt4, tt4.dtype)\n",
    "print('---------' * 10)\n",
    "\n",
    "tt5 = torch.ShortTensor(3, 3)\n",
    "print(tt5, tt5.dtype)\n",
    "\n"
   ]
  }
 ],
 "metadata": {
  "kernelspec": {
   "display_name": "universal",
   "language": "python",
   "name": "python3"
  },
  "language_info": {
   "codemirror_mode": {
    "name": "ipython",
    "version": 3
   },
   "file_extension": ".py",
   "mimetype": "text/x-python",
   "name": "python",
   "nbconvert_exporter": "python",
   "pygments_lexer": "ipython3",
   "version": "3.9.23"
  }
 },
 "nbformat": 4,
 "nbformat_minor": 5
}
