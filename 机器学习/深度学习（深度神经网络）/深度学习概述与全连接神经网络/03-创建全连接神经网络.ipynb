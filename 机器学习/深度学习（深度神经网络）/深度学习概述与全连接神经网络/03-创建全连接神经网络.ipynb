{
 "cells": [
  {
   "cell_type": "markdown",
   "id": "3e4fadb1",
   "metadata": {},
   "source": [
    "创建全连接神经网络有三个方法：（这里不涉及激活函数）\n",
    "1. 通过自己创建类实现创建全连接神经网络(最常用)\n",
    "2. 通过nn.Sequential快速创建全连接神经网络\n",
    "3. 直接使用nn.Linear创建单层全连接神经网络\n",
    "\n",
    "上面对的三种方法都有一个相同的核心：\n",
    "```    \n",
    "    nn.Linear(\n",
    "        in_features: int,       # 输入特征数\n",
    "        out_features: int,      # 输出特征数(实现的全连接层中的神经元数)\n",
    "        bias: bool = True,      # 是否使用偏置项\n",
    "        device: Any | None = None,\n",
    "        dtype: Any | None = None\n",
    "    )\n",
    "```\n",
    "\n",
    "nn.Linear是 PyTorch 中的一个非常重要的模块，用于实现全连接层（也称为线性层）。\n",
    "\n",
    "它是神经网络中常用的一种层类型，主要用于将输入数据通过线性变换映射到输出空间。"
   ]
  },
  {
   "cell_type": "code",
   "execution_count": null,
   "id": "7dcdae4d",
   "metadata": {},
   "outputs": [
    {
     "name": "stdout",
     "output_type": "stream",
     "text": [
      "tensor([[ 1.2630e-02,  1.7880e-01,  5.9900e-02, -1.5692e-01,  1.9713e-01,\n",
      "         -6.7733e-05,  1.6748e-01, -2.1352e-01, -2.0618e-02, -2.8983e-02],\n",
      "        [-2.3584e-02,  4.7384e-03,  9.6500e-03, -1.0374e-01,  1.8393e-01,\n",
      "          6.6370e-02,  5.9485e-02, -2.1051e-01,  3.5226e-02,  1.4143e-02],\n",
      "        [ 5.1157e-02,  1.8877e-01,  3.3590e-02, -1.2247e-01,  9.0188e-02,\n",
      "         -2.8222e-02,  2.1460e-01, -2.5366e-01, -1.5775e-02,  5.2209e-03]],\n",
      "       grad_fn=<AddmmBackward0>)\n"
     ]
    }
   ],
   "source": [
    "\"\"\"\n",
    "方法1：\n",
    "    通过自己创建类实现创建全连接神经网络(最常用)\n",
    "\"\"\"\n",
    "\n",
    "import torch\n",
    "from torch import nn\n",
    "\n",
    "# 1-自己创建类(需要继承nn.Module)\n",
    "class Net(nn.Module):\n",
    "\n",
    "    # 2-实现__init__()方法(调用父类的构造方法，并在这构建网络结构)\n",
    "    def __init__(self, input_size, output_size):\n",
    "        super(Net, self).__init__()     # 调用父类的构造方法，进行初始化\n",
    "\n",
    "        # 3-构建网络结构\n",
    "        self.fc1 = nn.Linear(input_size, 64)\n",
    "        self.fc2 = nn.Linear(64, 128)\n",
    "        self.fc3 = nn.Linear(128, output_size)\n",
    "        \n",
    "    # 4-定义前向传播方法\n",
    "    def forward(self, x):\n",
    "        x = self.fc1(x)\n",
    "        x = self.fc2(x)\n",
    "        x = self.fc3(x)\n",
    "        return x\n",
    "    \n",
    "data = torch.rand(3, 512)\n",
    "\n",
    "net = Net(512, 10)\n",
    "print(net.forward(data))    # 调用前向传播方法得到预测值"
   ]
  },
  {
   "cell_type": "code",
   "execution_count": 1,
   "id": "f7143eee",
   "metadata": {},
   "outputs": [
    {
     "name": "stdout",
     "output_type": "stream",
     "text": [
      "Sequential(\n",
      "  (0): Linear(in_features=128, out_features=64, bias=True)\n",
      "  (1): Linear(in_features=64, out_features=10, bias=True)\n",
      "  (2): Linear(in_features=10, out_features=10, bias=True)\n",
      ")\n",
      "Linear(in_features=128, out_features=64, bias=True)\n"
     ]
    }
   ],
   "source": [
    "\"\"\"\n",
    "方法2：\n",
    "    通过 nn.Sequential() 快速创建全连接神经网络\n",
    "\"\"\"\n",
    "\n",
    "from torch import nn\n",
    "\n",
    "input_size = 128\n",
    "output_size = 10\n",
    "\n",
    "# 使用nn.Sequential()时要注意网络层的顺序\n",
    "net = nn.Sequential(\n",
    "    nn.Linear(input_size, 64),      # 第0层\n",
    "    nn.Linear(64, 10),              # 第1层\n",
    "    nn.Linear(10, output_size)      # 第2层\n",
    ")\n",
    "\n",
    "print(net)\n",
    "print(net[0])   # 获取第0层"
   ]
  },
  {
   "cell_type": "code",
   "execution_count": null,
   "id": "65ac22f4",
   "metadata": {},
   "outputs": [
    {
     "name": "stdout",
     "output_type": "stream",
     "text": [
      "Linear(in_features=64, out_features=10, bias=True)\n"
     ]
    }
   ],
   "source": [
    "\"\"\"\n",
    "方法3：\n",
    "    直接使用Linear创建单层神经网络结构\n",
    "\"\"\"\n",
    "\n",
    "from torch import nn\n",
    "\n",
    "input_size = 64\n",
    "output_size = 10\n",
    "\n",
    "net = nn.Linear(input_size, output_size)\n",
    "print(net)"
   ]
  }
 ],
 "metadata": {
  "kernelspec": {
   "display_name": "universal",
   "language": "python",
   "name": "python3"
  },
  "language_info": {
   "codemirror_mode": {
    "name": "ipython",
    "version": 3
   },
   "file_extension": ".py",
   "mimetype": "text/x-python",
   "name": "python",
   "nbconvert_exporter": "python",
   "pygments_lexer": "ipython3",
   "version": "3.9.23"
  }
 },
 "nbformat": 4,
 "nbformat_minor": 5
}
