{
 "cells": [
  {
   "cell_type": "code",
   "execution_count": null,
   "id": "4aa6fd64",
   "metadata": {},
   "outputs": [
    {
     "name": "stdout",
     "output_type": "stream",
     "text": [
      "torch.Size([16, 4]) torch.Size([16])\n",
      "torch.Size([16, 4]) torch.Size([16])\n",
      "torch.Size([13, 4]) torch.Size([13])\n"
     ]
    }
   ],
   "source": [
    "\"\"\"\n",
    "加载csv文件中的数据:\n",
    "    1. 读取csv文件为DataFrame\n",
    "    2. 删除不需要的列\n",
    "    3. 提取特征和标签\n",
    "    4. 将特征和标签转换为张量\n",
    "    5. 把特征和标签封装为一个数据集\n",
    "\"\"\"\n",
    "\n",
    "import torch\n",
    "from torch import nn\n",
    "from torch.utils.data import TensorDataset, DataLoader\n",
    "import pandas as pd\n",
    "\n",
    "\n",
    "# 读取csv文件，返回处理好的特征和标签张量\n",
    "def read_csv_data():\n",
    "    df = pd.read_csv(\".\\图片资料\\大数据答辩成绩表.csv\")      # 读取csv文件为DataFrame\n",
    "    df.drop([\"学号\", \"姓名\"], axis=1, inplace=True)         # 删除不需要的列\n",
    "    \n",
    "    samples = df.iloc[:, :-1].values        # 提取特征\n",
    "    labels = df.iloc[:, -1].values          # 提取标签\n",
    "\n",
    "    samples = torch.tensor(samples, dtype=torch.float32)    # 转换为张量\n",
    "    labels = torch.tensor(labels, dtype=torch.float32)\n",
    "\n",
    "    return samples, labels\n",
    "\n",
    "\n",
    "# 创建数据集，返回数据加载器\n",
    "def create_dataLoader(samples, labels, /) -> DataLoader:\n",
    "\n",
    "    dataset = TensorDataset(samples, labels)                        # 创建数据集\n",
    "    data_loader = DataLoader(dataset, batch_size=16, shuffle=True)  # 创建数据加载器\n",
    "\n",
    "    return data_loader\n",
    "\n",
    "\n",
    "samples, labels = read_csv_data()\n",
    "dataLoader = create_dataLoader(samples, labels)\n",
    "\n",
    "for samples, labels in dataLoader:\n",
    "    print(samples.shape, labels.shape)"
   ]
  },
  {
   "cell_type": "code",
   "execution_count": null,
   "id": "53621844",
   "metadata": {},
   "outputs": [
    {
     "name": "stdout",
     "output_type": "stream",
     "text": [
      "图片总数： 600\n",
      "torch.Size([32, 3, 224, 224]) torch.Size([32])\n",
      "torch.Size([32, 3, 224, 224]) torch.Size([32])\n",
      "torch.Size([32, 3, 224, 224]) torch.Size([32])\n",
      "torch.Size([32, 3, 224, 224]) torch.Size([32])\n",
      "torch.Size([32, 3, 224, 224]) torch.Size([32])\n",
      "torch.Size([32, 3, 224, 224]) torch.Size([32])\n",
      "torch.Size([32, 3, 224, 224]) torch.Size([32])\n",
      "torch.Size([32, 3, 224, 224]) torch.Size([32])\n",
      "torch.Size([32, 3, 224, 224]) torch.Size([32])\n",
      "torch.Size([32, 3, 224, 224]) torch.Size([32])\n",
      "torch.Size([32, 3, 224, 224]) torch.Size([32])\n",
      "torch.Size([32, 3, 224, 224]) torch.Size([32])\n",
      "torch.Size([32, 3, 224, 224]) torch.Size([32])\n",
      "torch.Size([32, 3, 224, 224]) torch.Size([32])\n",
      "torch.Size([32, 3, 224, 224]) torch.Size([32])\n",
      "torch.Size([32, 3, 224, 224]) torch.Size([32])\n",
      "torch.Size([32, 3, 224, 224]) torch.Size([32])\n",
      "torch.Size([32, 3, 224, 224]) torch.Size([32])\n",
      "torch.Size([24, 3, 224, 224]) torch.Size([24])\n"
     ]
    }
   ],
   "source": [
    "\"\"\"\n",
    "加载图片数据，使用 torchvision.datasets.ImageFolder 加载图片数据集\n",
    "\n",
    "文件结构需满足：\n",
    "root/\n",
    "    class1/\n",
    "        img1.jpg\n",
    "        img2.jpg\n",
    "        ...\n",
    "    class2/\n",
    "        img1.jpg\n",
    "        img2.jpg\n",
    "        ...\n",
    "    ...\n",
    "\"\"\"\n",
    "\n",
    "from torch.utils.data import DataLoader\n",
    "from torchvision import datasets, transforms\n",
    "\n",
    "# 定义数据转换(对图片进行的预处理操作)\n",
    "transform = transforms.Compose([\n",
    "    transforms.Resize((224, 224)),  # 缩放图片为相同大小\n",
    "    transforms.ToTensor()           # 转为张量\n",
    "])\n",
    "\n",
    "dataset = datasets.ImageFolder(\n",
    "    root='./图片资料/animals',      # 图片所在的root目录\n",
    "    transform=transform,           # 定义图片转换(对图片的预处理)\n",
    "    target_transform=None,         # 定义标签转换\n",
    "    is_valid_file=None             # 验证文件的函数，只有返回 True 的文件才会被加载\n",
    "    )\n",
    "\n",
    "print('图片总数：', len(dataset))\n",
    "dataLoader = DataLoader(dataset, batch_size=32, shuffle=True)\n",
    "\n",
    "for data in dataLoader:\n",
    "    images, labels = data\n",
    "    print(images.shape, labels.shape)\n",
    "\n"
   ]
  },
  {
   "cell_type": "markdown",
   "id": "a2ca652e",
   "metadata": {},
   "source": [
    "在 PyTorch 中官方提供了一些经典的数据集，如 CIFAR-10、MNIST、ImageNet 等，可以直接使用这些数据集进行训练和测试。\n",
    "\n",
    "数据集：https://pytorch.org/vision/stable/datasets.html\n",
    "\n",
    "常见数据集：\n",
    "\n",
    "- MNIST: 手写数字数据集，包含 60,000 张训练图像和 10,000 张测试图像。\n",
    "- CIFAR10: 包含 10 个类别的 60,000 张 32x32 彩色图像，每个类别 6,000 张图像。\n",
    "- CIFAR100: 包含 100 个类别的 60,000 张 32x32 彩色图像，每个类别 600 张图像。\n",
    "- COCO: 通用对象识别数据集，包含超过 330,000 张图像，涵盖 80 个对象类别。\n",
    "\n",
    "torchvision.transforms 和 torchvision.datasets 是 PyTorch 中处理计算机视觉任务的两个核心模块，它们为图像数据的预处理和标准数据集的加载提供了强大支持。\n",
    "\n",
    "transforms 模块提供了一系列用于图像预处理的工具，可以将多个变换组合成处理流水线。\n",
    "\n",
    "datasets 模块提供了多种常用计算机视觉数据集的接口，可以方便地下载和加载。\n"
   ]
  },
  {
   "cell_type": "code",
   "execution_count": 1,
   "id": "8fb3951f",
   "metadata": {},
   "outputs": [
    {
     "name": "stdout",
     "output_type": "stream",
     "text": [
      "torch.Size([10000, 1, 28, 28]) torch.Size([10000])\n",
      "torch.Size([10000, 1, 28, 28]) torch.Size([10000])\n",
      "torch.Size([10000, 1, 28, 28]) torch.Size([10000])\n",
      "torch.Size([10000, 1, 28, 28]) torch.Size([10000])\n",
      "torch.Size([10000, 1, 28, 28]) torch.Size([10000])\n",
      "torch.Size([10000, 1, 28, 28]) torch.Size([10000])\n"
     ]
    }
   ],
   "source": [
    "\"\"\"\n",
    "这里以MNIST数据集为例\n",
    "\"\"\"\n",
    "\n",
    "from torch.utils.data import DataLoader\n",
    "from torchvision import transforms, datasets\n",
    "\n",
    "dataset = datasets.MNIST(\n",
    "    root='./图片资料',                   # 数据集的存储根目录路径（字符串或 Path 对象）\n",
    "    train=True,                         # 选择加载训练集(True)还是测试集(False)\n",
    "    transform=transforms.ToTensor(),    # 图像预处理\n",
    "    target_transform=None,              # 标签预处理函数\n",
    "    download=True                  # 是否自动下载数据集。download=False: 仅加载本地数据（不存在时报错）\n",
    ")\n",
    "\n",
    "\n",
    "dataLoader = DataLoader(dataset, batch_size=10000, shuffle=True)\n",
    "\n",
    "for data in dataLoader:    \n",
    "    x, y = data\n",
    "    print(x.shape, y.shape)"
   ]
  }
 ],
 "metadata": {
  "kernelspec": {
   "display_name": "universal",
   "language": "python",
   "name": "python3"
  },
  "language_info": {
   "codemirror_mode": {
    "name": "ipython",
    "version": 3
   },
   "file_extension": ".py",
   "mimetype": "text/x-python",
   "name": "python",
   "nbconvert_exporter": "python",
   "pygments_lexer": "ipython3",
   "version": "3.9.23"
  }
 },
 "nbformat": 4,
 "nbformat_minor": 5
}
