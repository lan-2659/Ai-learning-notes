{
 "cells": [
  {
   "cell_type": "code",
   "execution_count": 16,
   "id": "6c6e965d",
   "metadata": {},
   "outputs": [
    {
     "name": "stdout",
     "output_type": "stream",
     "text": [
      "Epoch: 1, Loss: 0.7769195437431335\n",
      "Epoch: 2, Loss: 0.7713834643363953\n",
      "Epoch: 3, Loss: 0.7658916115760803\n",
      "Epoch: 4, Loss: 0.7604437470436096\n",
      "Epoch: 5, Loss: 0.755039393901825\n",
      "Epoch: 6, Loss: 0.7496781945228577\n",
      "Epoch: 7, Loss: 0.7443599104881287\n",
      "Epoch: 8, Loss: 0.7390840649604797\n",
      "Epoch: 9, Loss: 0.7338504195213318\n",
      "Epoch: 10, Loss: 0.7286586165428162\n",
      "Epoch: 11, Loss: 0.7235081791877747\n",
      "Epoch: 12, Loss: 0.7183990478515625\n",
      "Epoch: 13, Loss: 0.7133306860923767\n",
      "Epoch: 14, Loss: 0.708302915096283\n",
      "Epoch: 15, Loss: 0.703315258026123\n",
      "Epoch: 16, Loss: 0.6983674168586731\n",
      "Epoch: 17, Loss: 0.6934592127799988\n",
      "Epoch: 18, Loss: 0.6885901689529419\n",
      "Epoch: 19, Loss: 0.6837599873542786\n",
      "Epoch: 20, Loss: 0.6789684891700745\n"
     ]
    }
   ],
   "source": [
    "import torch\n",
    "from torch import nn, optim\n",
    "from torch.utils.data import DataLoader, TensorDataset\n",
    "\n",
    "model = nn.Linear(10, 5)\n",
    "\n",
    "x = torch.randn(10000, 10)\n",
    "y = torch.rand(10000, 5)\n",
    "\n",
    "criterion = nn.MSELoss()\n",
    "optimizer = optim.SGD(model.parameters(), lr=0.01)\n",
    "\n",
    "dataset = TensorDataset(x, y)\n",
    "# 批量梯度下降\n",
    "dataLoader = DataLoader(dataset, batch_size=len(dataset), shuffle=True)\n",
    "\n",
    "for epoch in range(20):\n",
    "    for data in dataLoader:\n",
    "        x, y = data\n",
    "        y_pred = model(x)\n",
    "        loss = criterion(y_pred, y)\n",
    "        optimizer.zero_grad()\n",
    "        loss.backward()\n",
    "        optimizer.step()\n",
    "        # optimizer.zero_grad()\n",
    "\n",
    "    print(f\"Epoch: {epoch+1}, Loss: {loss.item()}\")"
   ]
  }
 ],
 "metadata": {
  "kernelspec": {
   "display_name": "universal",
   "language": "python",
   "name": "python3"
  },
  "language_info": {
   "codemirror_mode": {
    "name": "ipython",
    "version": 3
   },
   "file_extension": ".py",
   "mimetype": "text/x-python",
   "name": "python",
   "nbconvert_exporter": "python",
   "pygments_lexer": "ipython3",
   "version": "3.9.23"
  }
 },
 "nbformat": 4,
 "nbformat_minor": 5
}
