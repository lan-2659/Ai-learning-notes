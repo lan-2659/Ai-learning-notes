{
 "cells": [
  {
   "cell_type": "markdown",
   "id": "c56b89d8",
   "metadata": {},
   "source": [
    "下面介绍两种常用的创建数据集的方法：\n",
    "1. 使用torch.utils.data.Dataset自定义数据集\n",
    "2. 使用torch.utils.data.TensorDataset快速创建数据集"
   ]
  },
  {
   "cell_type": "code",
   "execution_count": null,
   "id": "4d86d75f",
   "metadata": {},
   "outputs": [
    {
     "name": "stdout",
     "output_type": "stream",
     "text": [
      "数据集长度 200\n",
      "数据集第一个样本 (tensor([0.2975, 0.3485, 0.3027, 0.5928, 0.8710]), tensor(1))\n"
     ]
    }
   ],
   "source": [
    "\"\"\"\n",
    "自定义数据集：\n",
    "\n",
    "    1-继承Dataset类\n",
    "    2-实现__init__()方法，初始化数据集\n",
    "    3-实现__getitem__()方法，返回指定索引的数据\n",
    "    4-实现__len__()方法，返回数据集的长度\n",
    "\"\"\"\n",
    "\n",
    "from torch.utils.data import Dataset, DataLoader\n",
    "import torch\n",
    "\n",
    "# 自定义数据集类(最简单的)\n",
    "class MyDataset(Dataset):\n",
    "    def __init__(self, data, labels):\n",
    "            self.data = data\n",
    "            self.labels = labels\n",
    "\n",
    "    def __len__(self):\n",
    "        return len(self.data)\n",
    "\n",
    "    def __getitem__(self, index):\n",
    "        sample = self.data[index]\n",
    "        label = self.labels[index]\n",
    "        return sample, label\n",
    "    \n",
    "data = torch.rand(200, 5)               # 测试数据\n",
    "labels = torch.randint(0, 2, (200,))    # 测试标签\n",
    "\n",
    "dataset = MyDataset(data, labels)       # 创建数据集对象\n",
    "\n",
    "print('数据集长度', len(dataset))\n",
    "print('数据集第一个样本', dataset[0])"
   ]
  },
  {
   "cell_type": "code",
   "execution_count": null,
   "id": "f7876f28",
   "metadata": {},
   "outputs": [
    {
     "name": "stdout",
     "output_type": "stream",
     "text": [
      "(tensor([ 0.3534, -0.9208, -0.5617, -0.1223,  0.2831, -1.8223,  1.7900, -0.6193,\n",
      "        -0.5609, -2.6827,  0.0458,  0.9396, -0.2908, -1.1898,  0.2614, -0.2840,\n",
      "        -0.4634,  0.0771,  1.0716,  0.8246]), tensor([-0.3152,  0.8826, -0.6841, -1.1684, -0.3258,  0.5606,  0.1749, -1.1944,\n",
      "         2.3781, -1.7393]))\n"
     ]
    }
   ],
   "source": [
    "\"\"\"\n",
    "使用 TensorDataset 快速创建数据集\n",
    "TensorDataset 是 Dataset 的一个简单实现，它封装了张量数据，适用于数据已经是张量形式的情况。\n",
    "\"\"\"\n",
    "from torch.utils.data import TensorDataset, DataLoader\n",
    "\n",
    "x = torch.randn(100, 20)\n",
    "y = torch.randn(100, 10)\n",
    "\n",
    "dataset = TensorDataset(x, y)   # 直接将数据传入(注意数据必须是张量)\n",
    "\n",
    "data = dataset[0]\n",
    "print(data)\n"
   ]
  },
  {
   "cell_type": "markdown",
   "id": "402e341a",
   "metadata": {},
   "source": [
    "DataLoader 数据加载器返回数据原理\n",
    "```mermaid\n",
    "graph LR\n",
    "A[DataLoader] --> B[生成索引]\n",
    "B --> C[\"调用Dataset的__getitem__()\"]\n",
    "C --> D[获取单个样本]\n",
    "D --> E[\"collate_fn组合成批次\"]\n",
    "E --> F[返回批次数据]\n",
    "```"
   ]
  },
  {
   "cell_type": "code",
   "execution_count": 4,
   "id": "831eee14",
   "metadata": {},
   "outputs": [
    {
     "name": "stdout",
     "output_type": "stream",
     "text": [
      "torch.Size([10, 10]) torch.Size([10])\n",
      "torch.Size([10, 10]) torch.Size([10])\n",
      "torch.Size([10, 10]) torch.Size([10])\n",
      "torch.Size([10, 10]) torch.Size([10])\n",
      "torch.Size([10, 10]) torch.Size([10])\n",
      "torch.Size([10, 10]) torch.Size([10])\n",
      "torch.Size([10, 10]) torch.Size([10])\n",
      "torch.Size([10, 10]) torch.Size([10])\n",
      "torch.Size([10, 10]) torch.Size([10])\n",
      "torch.Size([10, 10]) torch.Size([10])\n"
     ]
    }
   ],
   "source": [
    "\"\"\"\n",
    "创建数据集加载器\n",
    "    加载器可以重复使用（即允许多次循环遍历）\n",
    "\"\"\"\n",
    "from torch.utils.data import DataLoader, TensorDataset\n",
    "\n",
    "dataset = TensorDataset(torch.randn(100, 10), torch.randint(0, 2, (100,)))\n",
    "\n",
    "dataLoader = DataLoader(\n",
    "    dataset,            # 数据集\n",
    "    batch_size=10,      # 设置每批次加载的样本数量\n",
    "    shuffle=True        # 是否打乱数据\n",
    ")  \n",
    "\n",
    "for data in dataLoader:    \n",
    "    x, y = data\n",
    "    print(x.shape, y.shape)"
   ]
  }
 ],
 "metadata": {
  "kernelspec": {
   "display_name": "universal",
   "language": "python",
   "name": "python3"
  },
  "language_info": {
   "codemirror_mode": {
    "name": "ipython",
    "version": 3
   },
   "file_extension": ".py",
   "mimetype": "text/x-python",
   "name": "python",
   "nbconvert_exporter": "python",
   "pygments_lexer": "ipython3",
   "version": "3.9.23"
  }
 },
 "nbformat": 4,
 "nbformat_minor": 5
}
