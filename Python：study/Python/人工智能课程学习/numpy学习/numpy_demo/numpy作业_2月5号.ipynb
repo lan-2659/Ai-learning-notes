{
 "cells": [
  {
   "cell_type": "code",
   "id": "initial_id",
   "metadata": {
    "collapsed": true,
    "ExecuteTime": {
     "end_time": "2025-02-05T08:05:35.473735Z",
     "start_time": "2025-02-05T08:05:35.356203Z"
    }
   },
   "source": [
    "\"\"\"\n",
    "给定一个 NumPy 数组，编写一个函数，使用广播机制将数组的每个元素加上一个给定的标量值，并返回结果数组。\n",
    "\"\"\"\n",
    "\n",
    "import numpy as np\n",
    "def add(ndarray):\n",
    "    return ndarray + 1\n",
    "\n",
    "arr = np.arange(10)\n",
    "print(add(arr))"
   ],
   "outputs": [
    {
     "name": "stdout",
     "output_type": "stream",
     "text": [
      "[ 1  2  3  4  5  6  7  8  9 10]\n"
     ]
    }
   ],
   "execution_count": 1
  },
  {
   "metadata": {
    "ExecuteTime": {
     "end_time": "2025-02-05T08:11:02.231778Z",
     "start_time": "2025-02-05T08:11:02.212517Z"
    }
   },
   "cell_type": "code",
   "source": [
    "\"\"\"\n",
    "创建一个二维 NumPy 数组，其中包含从 1 到 100 的整数，然后使用高级索引提取所有偶数，并计算这些偶数的总和。\n",
    "\"\"\"\n",
    "\n",
    "import numpy as np\n",
    "arr = np.arange(1, 101).reshape(10,10)\n",
    "bool_idx = arr % 2 == 0\n",
    "print(arr[bool_idx])\n",
    "print(sum(arr[bool_idx])) # 可以使用 np.sum() 函数算数值总和"
   ],
   "id": "7e8fa4b11c72e835",
   "outputs": [
    {
     "name": "stdout",
     "output_type": "stream",
     "text": [
      "[  2   4   6   8  10  12  14  16  18  20  22  24  26  28  30  32  34  36\n",
      "  38  40  42  44  46  48  50  52  54  56  58  60  62  64  66  68  70  72\n",
      "  74  76  78  80  82  84  86  88  90  92  94  96  98 100]\n",
      "2550\n"
     ]
    }
   ],
   "execution_count": 3
  },
  {
   "metadata": {
    "ExecuteTime": {
     "end_time": "2025-02-05T08:14:04.948567Z",
     "start_time": "2025-02-05T08:14:04.935836Z"
    }
   },
   "cell_type": "code",
   "source": [
    "\"\"\"\n",
    "编写一个函数，返回数组沿指定轴的方差。\n",
    "\"\"\"\n",
    "import numpy as np\n",
    "\n",
    "def var(ndarray, axis=None):\n",
    "    return np.var(ndarray, axis=axis)\n",
    "\n",
    "arr = np.arange(10).reshape(2,5)\n",
    "print(var(arr))\n",
    "print(var(arr, 1))\n",
    "print(var(arr, 0))\n",
    "    "
   ],
   "id": "5ab2d4b7d3e96f47",
   "outputs": [
    {
     "name": "stdout",
     "output_type": "stream",
     "text": [
      "8.25\n",
      "[2. 2.]\n",
      "[6.25 6.25 6.25 6.25 6.25]\n"
     ]
    }
   ],
   "execution_count": 7
  },
  {
   "metadata": {
    "ExecuteTime": {
     "end_time": "2025-02-06T02:19:27.487117Z",
     "start_time": "2025-02-06T02:19:27.470070Z"
    }
   },
   "cell_type": "code",
   "source": [
    "\"\"\"\n",
    "实现一个函数，它接受一个 NumPy 数组，并返回该数组中所有唯一元素的列表。\n",
    "\"\"\"\n",
    "import numpy as np\n",
    "\n",
    "def unique(ndarray):\n",
    "    return np.unique(ndarray)\n",
    "\n",
    "arr = np.array([[1, 2, 3, 4, 4],[4, 5, 6, 7, 7],[7, 8, 9, 10, 10]])\n",
    "print(unique(arr))"
   ],
   "id": "9546dce79c20454e",
   "outputs": [
    {
     "name": "stdout",
     "output_type": "stream",
     "text": [
      "[[ 1  2  3  4]\n",
      " [ 4  5  6  7]\n",
      " [ 7  8  9 10]]\n"
     ]
    }
   ],
   "execution_count": 14
  },
  {
   "metadata": {
    "ExecuteTime": {
     "end_time": "2025-02-05T08:17:52.953434Z",
     "start_time": "2025-02-05T08:17:52.936434Z"
    }
   },
   "cell_type": "code",
   "source": [
    "\"\"\"\n",
    "使用Python的NumPy库，创建一个形状为(4,4)的二维数组，并且初始化所有元素为-1。\n",
    "\"\"\"\n",
    "\n",
    "import numpy as np\n",
    "arr = np.full((4,4), -1)\n",
    "print(arr)"
   ],
   "id": "5664dc0e841f238b",
   "outputs": [
    {
     "name": "stdout",
     "output_type": "stream",
     "text": [
      "[[-1 -1 -1 -1]\n",
      " [-1 -1 -1 -1]\n",
      " [-1 -1 -1 -1]\n",
      " [-1 -1 -1 -1]]\n"
     ]
    }
   ],
   "execution_count": 10
  },
  {
   "metadata": {
    "ExecuteTime": {
     "end_time": "2025-02-05T08:19:59.620885Z",
     "start_time": "2025-02-05T08:19:59.602161Z"
    }
   },
   "cell_type": "code",
   "source": [
    "\"\"\"\n",
    "假设数组：[1, 2, 3, 4, 3, 5, 3]，删除数组中所有值为3的元素。\n",
    "\"\"\"\n",
    "import numpy as np\n",
    "arr = np.array([1, 2, 3, 4, 3, 5, 3])\n",
    "bool_idx = arr == 3\n",
    "arr = np.delete(arr, bool_idx)\n",
    "print(arr)"
   ],
   "id": "d89d0f06682bda53",
   "outputs": [
    {
     "name": "stdout",
     "output_type": "stream",
     "text": [
      "[1 2 4 5]\n"
     ]
    }
   ],
   "execution_count": 12
  },
  {
   "metadata": {},
   "cell_type": "code",
   "outputs": [],
   "execution_count": null,
   "source": "",
   "id": "250b648761a1ef80"
  }
 ],
 "metadata": {
  "kernelspec": {
   "display_name": "Python 3",
   "language": "python",
   "name": "python3"
  },
  "language_info": {
   "codemirror_mode": {
    "name": "ipython",
    "version": 2
   },
   "file_extension": ".py",
   "mimetype": "text/x-python",
   "name": "python",
   "nbconvert_exporter": "python",
   "pygments_lexer": "ipython2",
   "version": "2.7.6"
  }
 },
 "nbformat": 4,
 "nbformat_minor": 5
}
