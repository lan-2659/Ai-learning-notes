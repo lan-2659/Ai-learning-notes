{
 "cells": [
  {
   "cell_type": "code",
   "id": "initial_id",
   "metadata": {
    "collapsed": true,
    "ExecuteTime": {
     "end_time": "2025-02-07T12:24:24.590891Z",
     "start_time": "2025-02-07T12:24:24.453857Z"
    }
   },
   "source": [
    "import numpy as np\n",
    "a = np.array([[[0, 12, 3], [9, 10, 5]], [[1, 4, 7], [2, 6, 8]]])\n",
    "b = np.amin(a, axis=0)\n",
    "print(a)\n",
    "print(b)\n"
   ],
   "outputs": [
    {
     "name": "stdout",
     "output_type": "stream",
     "text": [
      "[[[ 0 12  3]\n",
      "  [ 9 10  5]]\n",
      "\n",
      " [[ 1  4  7]\n",
      "  [ 2  6  8]]]\n",
      "[[0 4 3]\n",
      " [2 6 5]]\n"
     ]
    }
   ],
   "execution_count": 1
  },
  {
   "metadata": {
    "ExecuteTime": {
     "end_time": "2025-02-07T12:24:24.606890Z",
     "start_time": "2025-02-07T12:24:24.592891Z"
    }
   },
   "cell_type": "code",
   "source": "",
   "id": "e363a7dc18f1f4f3",
   "outputs": [],
   "execution_count": 1
  },
  {
   "metadata": {
    "ExecuteTime": {
     "end_time": "2025-02-07T12:24:24.622888Z",
     "start_time": "2025-02-07T12:24:24.608890Z"
    }
   },
   "cell_type": "code",
   "source": [
    "a = np.arange(16).reshape(4, 4)\n",
    "print(a)\n",
    "print(\"------------------------------\")\n",
    "for i in np.vsplit(a, [1]):\n",
    "    print(i)\n",
    "    "
   ],
   "id": "20b7d35fe1121cab",
   "outputs": [
    {
     "name": "stdout",
     "output_type": "stream",
     "text": [
      "[[ 0  1  2  3]\n",
      " [ 4  5  6  7]\n",
      " [ 8  9 10 11]\n",
      " [12 13 14 15]]\n",
      "------------------------------\n",
      "[[0 1 2 3]]\n",
      "[[ 4  5  6  7]\n",
      " [ 8  9 10 11]\n",
      " [12 13 14 15]]\n"
     ]
    }
   ],
   "execution_count": 2
  },
  {
   "metadata": {
    "ExecuteTime": {
     "end_time": "2025-02-07T12:24:24.638895Z",
     "start_time": "2025-02-07T12:24:24.624890Z"
    }
   },
   "cell_type": "code",
   "source": [
    "a = np.arange(16).reshape(2, 2, 4)\n",
    "print(a)\n",
    "print(\"------------------------------\")\n",
    "for i in np.vsplit(a, [1]):\n",
    "    print(i)\n",
    "    "
   ],
   "id": "43fd32d7b812491",
   "outputs": [
    {
     "name": "stdout",
     "output_type": "stream",
     "text": [
      "[[[ 0  1  2  3]\n",
      "  [ 4  5  6  7]]\n",
      "\n",
      " [[ 8  9 10 11]\n",
      "  [12 13 14 15]]]\n",
      "------------------------------\n",
      "[[[0 1 2 3]\n",
      "  [4 5 6 7]]]\n",
      "[[[ 8  9 10 11]\n",
      "  [12 13 14 15]]]\n"
     ]
    }
   ],
   "execution_count": 3
  },
  {
   "metadata": {
    "ExecuteTime": {
     "end_time": "2025-02-07T12:24:24.654902Z",
     "start_time": "2025-02-07T12:24:24.639894Z"
    }
   },
   "cell_type": "code",
   "source": [
    "a = np.arange(16).reshape(2, 2, 2, 2)\n",
    "# print(np.hsplit(a, [0, 1]))\n",
    "# print(a)\n",
    "# print(\"------------------------------\")\n",
    "# for i in np.vsplit(a, [1]):\n",
    "#     print(i)\n",
    "print(np.dot(a, a).shape)"
   ],
   "id": "a589dd1d0e8f8c29",
   "outputs": [
    {
     "name": "stdout",
     "output_type": "stream",
     "text": [
      "(2, 2, 2, 2, 2, 2)\n"
     ]
    }
   ],
   "execution_count": 4
  },
  {
   "metadata": {
    "ExecuteTime": {
     "end_time": "2025-02-07T12:24:24.670420Z",
     "start_time": "2025-02-07T12:24:24.656903Z"
    }
   },
   "cell_type": "code",
   "source": [
    "a = np.arange(16)\n",
    "print(a)\n",
    "print(\"------------------------------\")\n",
    "for i in np.hsplit(a, [1]):\n",
    "    print(i)"
   ],
   "id": "84bafa5015bd6cb8",
   "outputs": [
    {
     "name": "stdout",
     "output_type": "stream",
     "text": [
      "[ 0  1  2  3  4  5  6  7  8  9 10 11 12 13 14 15]\n",
      "------------------------------\n",
      "[0]\n",
      "[ 1  2  3  4  5  6  7  8  9 10 11 12 13 14 15]\n"
     ]
    }
   ],
   "execution_count": 5
  },
  {
   "metadata": {
    "ExecuteTime": {
     "end_time": "2025-02-07T12:24:24.686420Z",
     "start_time": "2025-02-07T12:24:24.671422Z"
    }
   },
   "cell_type": "code",
   "source": [
    "a = np.array([1, 2, 3])\n",
    "b = np.array([4, 5, 6])\n",
    "\n",
    "result = np.dot(a, b)\n",
    "print(result)"
   ],
   "id": "c19faf031c7c4340",
   "outputs": [
    {
     "name": "stdout",
     "output_type": "stream",
     "text": [
      "32\n"
     ]
    }
   ],
   "execution_count": 6
  },
  {
   "metadata": {
    "ExecuteTime": {
     "end_time": "2025-02-07T12:24:24.702419Z",
     "start_time": "2025-02-07T12:24:24.688423Z"
    }
   },
   "cell_type": "code",
   "source": [
    "import numpy as np\n",
    "a = np.arange(16).reshape(2, 2, 2, 2)\n",
    "b = np.zeros((2, 1, 2, 2))\n",
    "c = np.append(a, b, axis=1)\n",
    "print(c)"
   ],
   "id": "30a4213a9920fc4d",
   "outputs": [
    {
     "name": "stdout",
     "output_type": "stream",
     "text": [
      "[[[[ 0.  1.]\n",
      "   [ 2.  3.]]\n",
      "\n",
      "  [[ 4.  5.]\n",
      "   [ 6.  7.]]\n",
      "\n",
      "  [[ 0.  0.]\n",
      "   [ 0.  0.]]]\n",
      "\n",
      "\n",
      " [[[ 8.  9.]\n",
      "   [10. 11.]]\n",
      "\n",
      "  [[12. 13.]\n",
      "   [14. 15.]]\n",
      "\n",
      "  [[ 0.  0.]\n",
      "   [ 0.  0.]]]]\n"
     ]
    }
   ],
   "execution_count": 7
  },
  {
   "metadata": {
    "ExecuteTime": {
     "end_time": "2025-02-07T12:25:38.284606Z",
     "start_time": "2025-02-07T12:25:38.277609Z"
    }
   },
   "cell_type": "code",
   "source": [
    "a = np.arange(16)\n",
    "a = np.resize(a, (4, 4, 4, 4))\n",
    "print(a)"
   ],
   "id": "18282fa1e02696aa",
   "outputs": [
    {
     "name": "stdout",
     "output_type": "stream",
     "text": [
      "[[[[ 0  1  2  3]\n",
      "   [ 4  5  6  7]\n",
      "   [ 8  9 10 11]\n",
      "   [12 13 14 15]]\n",
      "\n",
      "  [[ 0  1  2  3]\n",
      "   [ 4  5  6  7]\n",
      "   [ 8  9 10 11]\n",
      "   [12 13 14 15]]\n",
      "\n",
      "  [[ 0  1  2  3]\n",
      "   [ 4  5  6  7]\n",
      "   [ 8  9 10 11]\n",
      "   [12 13 14 15]]\n",
      "\n",
      "  [[ 0  1  2  3]\n",
      "   [ 4  5  6  7]\n",
      "   [ 8  9 10 11]\n",
      "   [12 13 14 15]]]\n",
      "\n",
      "\n",
      " [[[ 0  1  2  3]\n",
      "   [ 4  5  6  7]\n",
      "   [ 8  9 10 11]\n",
      "   [12 13 14 15]]\n",
      "\n",
      "  [[ 0  1  2  3]\n",
      "   [ 4  5  6  7]\n",
      "   [ 8  9 10 11]\n",
      "   [12 13 14 15]]\n",
      "\n",
      "  [[ 0  1  2  3]\n",
      "   [ 4  5  6  7]\n",
      "   [ 8  9 10 11]\n",
      "   [12 13 14 15]]\n",
      "\n",
      "  [[ 0  1  2  3]\n",
      "   [ 4  5  6  7]\n",
      "   [ 8  9 10 11]\n",
      "   [12 13 14 15]]]\n",
      "\n",
      "\n",
      " [[[ 0  1  2  3]\n",
      "   [ 4  5  6  7]\n",
      "   [ 8  9 10 11]\n",
      "   [12 13 14 15]]\n",
      "\n",
      "  [[ 0  1  2  3]\n",
      "   [ 4  5  6  7]\n",
      "   [ 8  9 10 11]\n",
      "   [12 13 14 15]]\n",
      "\n",
      "  [[ 0  1  2  3]\n",
      "   [ 4  5  6  7]\n",
      "   [ 8  9 10 11]\n",
      "   [12 13 14 15]]\n",
      "\n",
      "  [[ 0  1  2  3]\n",
      "   [ 4  5  6  7]\n",
      "   [ 8  9 10 11]\n",
      "   [12 13 14 15]]]\n",
      "\n",
      "\n",
      " [[[ 0  1  2  3]\n",
      "   [ 4  5  6  7]\n",
      "   [ 8  9 10 11]\n",
      "   [12 13 14 15]]\n",
      "\n",
      "  [[ 0  1  2  3]\n",
      "   [ 4  5  6  7]\n",
      "   [ 8  9 10 11]\n",
      "   [12 13 14 15]]\n",
      "\n",
      "  [[ 0  1  2  3]\n",
      "   [ 4  5  6  7]\n",
      "   [ 8  9 10 11]\n",
      "   [12 13 14 15]]\n",
      "\n",
      "  [[ 0  1  2  3]\n",
      "   [ 4  5  6  7]\n",
      "   [ 8  9 10 11]\n",
      "   [12 13 14 15]]]]\n"
     ]
    }
   ],
   "execution_count": 10
  },
  {
   "metadata": {},
   "cell_type": "markdown",
   "source": "",
   "id": "37fb29fe2de3640b"
  },
  {
   "metadata": {
    "ExecuteTime": {
     "end_time": "2025-02-11T10:38:29.967342Z",
     "start_time": "2025-02-11T10:38:29.899342Z"
    }
   },
   "cell_type": "code",
   "source": [
    "\"\"\"\n",
    "题目一：数据处理与分析\n",
    "任务描述：\n",
    "给定一个包含人员姓名的 Pandas Series 对象和一个包含对应年龄的 DataFrame 对象。要求你将这两个对象合并为一个完整的 DataFrame，并计算年龄的平均值。\n",
    "具体要求：\n",
    "使用提供的姓名和年龄数据创建一个 Pandas Series 对象和一个 DataFrame 对象。\n",
    "将 Series 对象的姓名添加到 DataFrame 中作为新的一列。\n",
    "计算并打印新 DataFrame 中年龄列的平均值。\n",
    "测试数据：\n",
    "姓名（Series）: ['李四', '王五', '张三']\n",
    "年龄（DataFrame）:\n",
    " name  age\n",
    "0  李四   23\n",
    "1  王五   12\n",
    "2  张三   13\n",
    "\n",
    "\"\"\"\n",
    "import pandas as pd\n",
    "s = pd.Series(['李四', '王五', '张三'])\n",
    "df = pd.DataFrame({'age': [23, 12, 13]})\n",
    "df = pd.concat([s, df], axis=1)\n",
    "df = df.rename(columns={0: 'name'})\n",
    "print(df)\n",
    "print(df['age'].mean())"
   ],
   "id": "8385dee2fa1e8e15",
   "outputs": [
    {
     "name": "stdout",
     "output_type": "stream",
     "text": [
      "  name  age\n",
      "0   李四   23\n",
      "1   王五   12\n",
      "2   张三   13\n",
      "16.0\n"
     ]
    }
   ],
   "execution_count": 13
  },
  {
   "metadata": {
    "ExecuteTime": {
     "end_time": "2025-02-11T10:43:28.191635Z",
     "start_time": "2025-02-11T10:43:28.116119Z"
    }
   },
   "cell_type": "code",
   "source": [
    "### 题目二：数据可视化\n",
    "\n",
    "\"\"\"\n",
    "**任务描述**：\n",
    "使用 Matplotlib 库对题目一得到的数据进行可视化，要求绘制每个人员的年龄并以姓名作为标签。\n",
    "\n",
    "**具体要求**：\n",
    "1. 使用题目一得到的 DataFrame 数据。\n",
    "2. 绘制一个条形图（Bar Chart）展示每个人的年龄。\n",
    "3. 设置图表的标题为“人员年龄分布”。\n",
    "4. 在 x 轴上显示姓名，在 y 轴上显示年龄。\n",
    "5. 为每个条形图添加标签以显示具体年龄。\n",
    "\n",
    "**提示**：\n",
    "- 可以使用 `plt.bar()` 函数来绘制条形图。\n",
    "- 使用 `plt.title()`, `plt.xlabel()`, 和 `plt.ylabel()` 函数来设置图表的标题和轴标签。\n",
    "- 使用 `plt.xticks()` 函数设置 x 轴的标签。\n",
    "\"\"\"\n",
    "import matplotlib.pyplot as plt\n",
    "\n",
    "fig, ax = plt.subplots()\n",
    "plt.title('人员年龄分布')\n",
    "plt.xlabel('姓名')\n",
    "plt.ylabel('年龄')\n",
    "\n",
    "ax.bar(df['name'], df['age'])\n",
    "\n",
    "plt.show()"
   ],
   "id": "ab813f38b2876188",
   "outputs": [
    {
     "data": {
      "text/plain": [
       "<Figure size 640x480 with 1 Axes>"
      ],
      "image/png": "[encoded data removed]"
     },
     "metadata": {},
     "output_type": "display_data"
    }
   ],
   "execution_count": 17
  },
  {
   "metadata": {},
   "cell_type": "code",
   "outputs": [],
   "execution_count": null,
   "source": "",
   "id": "583b2399b6a49c41"
  }
 ],
 "metadata": {
  "kernelspec": {
   "display_name": "Python 3",
   "language": "python",
   "name": "python3"
  },
  "language_info": {
   "codemirror_mode": {
    "name": "ipython",
    "version": 2
   },
   "file_extension": ".py",
   "mimetype": "text/x-python",
   "name": "python",
   "nbconvert_exporter": "python",
   "pygments_lexer": "ipython2",
   "version": "2.7.6"
  }
 },
 "nbformat": 4,
 "nbformat_minor": 5
}
