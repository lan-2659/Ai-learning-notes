{
 "cells": [
  {
   "cell_type": "code",
   "id": "initial_id",
   "metadata": {
    "collapsed": true,
    "ExecuteTime": {
     "end_time": "2025-02-05T12:28:31.275673Z",
     "start_time": "2025-02-05T12:28:31.256011Z"
    }
   },
   "source": [
    "\"\"\"\n",
    "给定一个二维数组 arr = np.array([[1, 2, 3], [4, 5, 6]])，提取第 2 行的所有元素，并将其值加 10。\n",
    "\"\"\"\n",
    "import numpy as np\n",
    "\n",
    "arr = np.array([[1, 2, 3], [4, 5, 6]])\n",
    "arr1 = arr[1]\n",
    "arr1 += 10\n",
    "print(arr)"
   ],
   "outputs": [
    {
     "name": "stdout",
     "output_type": "stream",
     "text": [
      "[[ 1  2  3]\n",
      " [14 15 16]]\n"
     ]
    }
   ],
   "execution_count": 2
  },
  {
   "metadata": {
    "ExecuteTime": {
     "end_time": "2025-02-06T01:57:50.188044Z",
     "start_time": "2025-02-06T01:57:50.170518Z"
    }
   },
   "cell_type": "code",
   "source": [
    "\"\"\"\n",
    "给定一个二维数组 arr = np.array([[1, 2, 3], [4, 5, 6], [7, 8, 9]])，提取出所有大于3且小于8的元素，并将这些元素替换为-1。\n",
    "\"\"\"\n",
    "arr1 = np.array([[1, 2, 3], [4, 5, 6], [7, 8, 9]]) \n",
    "arr1[(3 < arr1) & (arr1 < 8)] = -1\n",
    "print(arr1)"
   ],
   "id": "dc16b97a6363ec5c",
   "outputs": [
    {
     "name": "stdout",
     "output_type": "stream",
     "text": [
      "[[ 1  2  3]\n",
      " [-1 -1 -1]\n",
      " [-1  8  9]]\n"
     ]
    }
   ],
   "execution_count": 24
  },
  {
   "metadata": {
    "ExecuteTime": {
     "end_time": "2025-02-06T02:00:40.395023Z",
     "start_time": "2025-02-06T02:00:40.375989Z"
    }
   },
   "cell_type": "code",
   "source": [
    "\"\"\"\n",
    "3.给定一个二维数组 arr = np.array([[1, 2, 3], [4, 5, 6], [7, 8, 9]])，提取出主对角线上的元素，并将这些元素替换为它们的平方。\n",
    "\"\"\"\n",
    "arr = np.array([[1, 2, 3], [4, 5, 6], [7, 8, 9]])\n",
    "size = arr.shape[0]\n",
    "index = np.arange(size)\n",
    "arr[index, index] = arr[index, index] ** 2\n",
    "print(arr)\n",
    "\n",
    "d = np.diag(arr) # 获取主对角线上的元素\n",
    "print(d)\n",
    "\n",
    "idx = np.diag_indices_from(arr) # 获取主对角线上的元素对应的下标（按维度给下标，与整数数组索引类似）\n",
    "print(idx)"
   ],
   "id": "60059ac2b48239d",
   "outputs": [
    {
     "name": "stdout",
     "output_type": "stream",
     "text": [
      "[[ 1  2  3]\n",
      " [ 4 25  6]\n",
      " [ 7  8 81]]\n",
      "[ 1 25 81]\n",
      "(array([0, 1, 2]), array([0, 1, 2]))\n"
     ]
    }
   ],
   "execution_count": 26
  },
  {
   "metadata": {
    "ExecuteTime": {
     "end_time": "2025-02-06T01:38:06.845818Z",
     "start_time": "2025-02-06T01:38:06.828213Z"
    }
   },
   "cell_type": "code",
   "source": [
    "\"\"\"\n",
    "4.给定一个二维数组 arr = np.array([[1, 2, 3], [4, 5, 6], [7, 8, 9]])，将其按行分割为两个子数组：第一个子数组包含前两行，第二个子数组包含最后一行。\n",
    "\"\"\"\n",
    "arr = np.array([[1, 2, 3], [4, 5, 6], [7, 8, 9]])\n",
    "arr1 = arr[:2]\n",
    "arr2 = arr[2:]\n",
    "print(arr1)\n",
    "print(arr2)"
   ],
   "id": "b31b431b8d4a61a9",
   "outputs": [
    {
     "name": "stdout",
     "output_type": "stream",
     "text": [
      "[[1 2 3]\n",
      " [4 5 6]]\n",
      "[[7 8 9]]\n"
     ]
    }
   ],
   "execution_count": 7
  },
  {
   "metadata": {
    "ExecuteTime": {
     "end_time": "2025-02-06T01:54:24.903635Z",
     "start_time": "2025-02-06T01:54:24.892107Z"
    }
   },
   "cell_type": "code",
   "source": [
    "\"\"\"\n",
    "6.给定一个二维数组 arr = np.array([[1, 2, 3], [4, 5, 6], [7, 8, 9]])，找出所有大于5的元素的索引，并将这些元素替换为它们的平方根。\n",
    "\"\"\"\n",
    "\n",
    "arr = np.array([[1, 2, 3], [4, 5, 6], [7, 8, 9]])\n",
    "\n",
    "# arr[arr > 5] = np.sqrt(arr[arr > 5])\n",
    "# print(arr)\n",
    "\n",
    "idx = np.where(arr > 5) # 获取元素的索引下标，结果的数据格式按维度给出(与整数数组索引类似)\n",
    "print(idx)"
   ],
   "id": "3f9879fd2b86ea70",
   "outputs": [
    {
     "name": "stdout",
     "output_type": "stream",
     "text": [
      "(array([1, 2, 2, 2], dtype=int64), array([2, 0, 1, 2], dtype=int64))\n"
     ]
    }
   ],
   "execution_count": 22
  },
  {
   "metadata": {
    "ExecuteTime": {
     "end_time": "2025-02-05T12:20:59.483816Z",
     "start_time": "2025-02-05T12:20:59.469301Z"
    }
   },
   "cell_type": "code",
   "source": "",
   "id": "ec16fc9c9329eba2",
   "outputs": [],
   "execution_count": null
  },
  {
   "metadata": {
    "ExecuteTime": {
     "end_time": "2025-02-05T12:20:59.499818Z",
     "start_time": "2025-02-05T12:20:59.485818Z"
    }
   },
   "cell_type": "code",
   "source": "",
   "id": "d4c69c677b313a7b",
   "outputs": [],
   "execution_count": null
  },
  {
   "metadata": {
    "ExecuteTime": {
     "end_time": "2025-02-05T12:20:59.831130Z",
     "start_time": "2025-02-05T12:20:59.817130Z"
    }
   },
   "cell_type": "code",
   "source": "",
   "id": "45f8a42c829e9542",
   "outputs": [],
   "execution_count": null
  },
  {
   "metadata": {
    "ExecuteTime": {
     "end_time": "2025-02-05T12:20:59.847132Z",
     "start_time": "2025-02-05T12:20:59.832130Z"
    }
   },
   "cell_type": "code",
   "source": "",
   "id": "7e4772ff4f9ce4f4",
   "outputs": [],
   "execution_count": null
  },
  {
   "metadata": {
    "ExecuteTime": {
     "end_time": "2025-02-05T12:21:00.070175Z",
     "start_time": "2025-02-05T12:21:00.064176Z"
    }
   },
   "cell_type": "code",
   "source": "",
   "id": "87907bc29ecf5ec0",
   "outputs": [],
   "execution_count": null
  },
  {
   "metadata": {
    "ExecuteTime": {
     "end_time": "2025-02-05T12:21:00.273847Z",
     "start_time": "2025-02-05T12:21:00.264848Z"
    }
   },
   "cell_type": "code",
   "source": "",
   "id": "f866cb1159045647",
   "outputs": [],
   "execution_count": null
  },
  {
   "metadata": {},
   "cell_type": "code",
   "outputs": [],
   "execution_count": null,
   "source": "",
   "id": "bc39d08427d49ef7"
  }
 ],
 "metadata": {
  "kernelspec": {
   "display_name": "Python 3",
   "language": "python",
   "name": "python3"
  },
  "language_info": {
   "codemirror_mode": {
    "name": "ipython",
    "version": 2
   },
   "file_extension": ".py",
   "mimetype": "text/x-python",
   "name": "python",
   "nbconvert_exporter": "python",
   "pygments_lexer": "ipython2",
   "version": "2.7.6"
  }
 },
 "nbformat": 4,
 "nbformat_minor": 5
}
